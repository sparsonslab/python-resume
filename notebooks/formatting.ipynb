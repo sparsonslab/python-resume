{
 "cells": [
  {
   "cell_type": "code",
   "execution_count": null,
   "id": "fea03d11",
   "metadata": {},
   "outputs": [],
   "source": []
  },
  {
   "cell_type": "code",
   "execution_count": null,
   "id": "c760184f",
   "metadata": {},
   "outputs": [],
   "source": []
  },
  {
   "cell_type": "code",
   "execution_count": 14,
   "id": "94a707de",
   "metadata": {},
   "outputs": [
    {
     "name": "stdout",
     "output_type": "stream",
     "text": [
      "a              b              c         \n",
      "------------------------------------------------------------\n",
      "2.345          abcdef         0.571125       1         \n",
      "-0.985463      genuine   \n",
      "god            gracious m     1.31578947     0         \n"
     ]
    }
   ],
   "source": [
    "def print_list_of_rows(rows, width=10, space=2):\n",
    "    frmt = \"{:<\" + str(width) + \"}\"\n",
    "    prfx = \" \"*space\n",
    "    max_cols = max([1] + [len(row) for row in rows if isinstance(row, list)])\n",
    "    m = max_cols * (width + space)\n",
    "    for row in rows:\n",
    "        if isinstance(row, list):\n",
    "            print(prfx.join([frmt.format(r)[:width] for r in row]))\n",
    "        else:\n",
    "            print(\"-\"*m)\n",
    "    \n",
    "        \n",
    "table = [\n",
    "    [\"a\", \"b\", \"c\"],\n",
    "    None,\n",
    "    [2.345, \"abcdef\", 4.5690/8, True],\n",
    "    [-0.985463, \"genuine\"],\n",
    "    [\"god\", \"gracious me what a blast\", 1/0.76, False]\n",
    "]\n",
    "print_list_of_rows(table, space=5)"
   ]
  },
  {
   "cell_type": "code",
   "execution_count": null,
   "id": "342b9d0a",
   "metadata": {},
   "outputs": [],
   "source": [
    "def print_table(rows, space=2, max_width=None):\n",
    "    \n",
    "    col_widths = []\n",
    "    values = []\n",
    "    \n",
    "    for \n",
    "    string_rows = [[str(v) for v in row] for row in rows]\n",
    "    col_widths = []\n",
    "        \n",
    "        \n",
    "        "
   ]
  },
  {
   "cell_type": "code",
   "execution_count": null,
   "id": "e0a64c1b",
   "metadata": {},
   "outputs": [],
   "source": []
  },
  {
   "cell_type": "code",
   "execution_count": 23,
   "id": "340a613a",
   "metadata": {},
   "outputs": [
    {
     "name": "stdout",
     "output_type": "stream",
     "text": [
      "animal         length    legs\n",
      "-----------------------------\n",
      "zebra          1.6       4   \n",
      "millipede      -0.006    100 \n",
      "emu            0.8       2   \n"
     ]
    }
   ],
   "source": [
    "class TablePrinter:\n",
    "    \n",
    "    def __init__(self, *widths):\n",
    "        self.n_cols = len(widths)\n",
    "        self.total_width = sum(widths)\n",
    "        self.row_format = \"\".join([\"{:<\" + str(w) + \"}\" for w in widths])\n",
    "\n",
    "    def print_row(self, *values):\n",
    "        if len(values) == self.n_cols:\n",
    "            print(self.row_format.format(*values))\n",
    "            \n",
    "    def print_header(self, *columns):\n",
    "        self.print_row(*columns)\n",
    "        print(\"-\"*self.total_width)        \n",
    "    \n",
    "            \n",
    "table = [\n",
    "    [\"zebra\", 1.6, 4],\n",
    "    [\"millipede\", -0.006, 100],\n",
    "    [\"emu\", 0.8, 2]\n",
    "]\n",
    "\n",
    "tp = TablePrinter(15, 10, 4)\n",
    "tp.print_header(\"animal\", \"length\", \"legs\")\n",
    "for row in table:\n",
    "    tp.print_row(*row)"
   ]
  },
  {
   "cell_type": "code",
   "execution_count": null,
   "id": "7e5463f9",
   "metadata": {},
   "outputs": [],
   "source": []
  },
  {
   "cell_type": "code",
   "execution_count": null,
   "id": "99655dd8",
   "metadata": {},
   "outputs": [],
   "source": []
  },
  {
   "cell_type": "code",
   "execution_count": null,
   "id": "eb3966ca",
   "metadata": {},
   "outputs": [],
   "source": []
  },
  {
   "cell_type": "code",
   "execution_count": 25,
   "id": "648e099b",
   "metadata": {},
   "outputs": [
    {
     "name": "stdout",
     "output_type": "stream",
     "text": [
      "width   number         expected       actual         \n",
      "-----------------------------------------------------\n",
      "6       0.092456       0.09246        0.09246        \n",
      "5       0.092456       0.0925         0.0925         \n",
      "4       0.092456       0.092          0.092          \n",
      "3       0.092456       0.09           0.09           \n",
      "3       -0.092456      -0.09          -0.09          \n",
      "4       6.092456       6.092          6.092          \n",
      "3       6.092456       6.09           6.09           \n",
      "1       6.092456       6              6              \n",
      "1       60.92456       60             60             \n",
      "1       609.2456       609            609            \n",
      "1       -609.2456      -609           -609           \n",
      "4       0.03           0.030          0.030          \n",
      "1       567            567            567            \n",
      "width          number         expected       actual    \n",
      "------------------------------------------------------------\n",
      "6              0.092456       0.09246        0.09246   \n",
      "5              0.092456       0.0925         0.0925    \n",
      "4              0.092456       0.092          0.092     \n",
      "3              0.092456       0.09           0.09      \n",
      "3              -0.092456      -0.09          -0.09     \n",
      "4              6.092456       6.092          6.092     \n",
      "3              6.092456       6.09           6.09      \n",
      "1              6.092456       6              6         \n",
      "1              60.92456       60             60        \n",
      "1              609.2456       609            609       \n",
      "1              -609.2456      -609           -609      \n",
      "4              0.03           0.030          0.030     \n",
      "1              567            567            567       \n"
     ]
    }
   ],
   "source": [
    "def fixed_digits(x, n):\n",
    "    \"\"\" Convert a number to a string with n digits.\n",
    "    \n",
    "    https://en.wikipedia.org/wiki/Significant_figures\n",
    "    \n",
    "    Parameters\n",
    "    ----------\n",
    "    x: float or int\n",
    "        The number.\n",
    "    n: int\n",
    "        The number of significant digits.\n",
    " \n",
    "    Returns\n",
    "    -------\n",
    "    str:\n",
    "        The number reduced to its significant digits.\n",
    "    \"\"\"\n",
    "    if not isinstance(x, float):\n",
    "        return str(x)\n",
    "    \n",
    "    # Convert to list of characters\n",
    "    xs = list((\"{:.\" + str(n) + \"f}\").format(x))\n",
    "    \n",
    "    # Minimum width.\n",
    "    j = int(not xs[0].isdigit()) + n  \n",
    "    \n",
    "    # Decimal place ...\n",
    "    k = xs.index(\".\")\n",
    "    # ... before end - format to round decimal places\n",
    "    if k < j:  \n",
    "        j += 1\n",
    "        for u in range(j, len(xs)):\n",
    "            z = int(xs[u])\n",
    "            if z < 5:\n",
    "                break\n",
    "            if z > 5:\n",
    "                xs[j - 1] = str(int(xs[j - 1]) + 1)\n",
    "                break\n",
    "    # ... after end - take number up to decimal place. \n",
    "    elif k > j: \n",
    "        j = k\n",
    "    return ''.join(xs[:j])  \n",
    "\n",
    "            \n",
    "    \n",
    "sig_examples = [\n",
    "    (0.092456, 6, \"0.09246\"),\n",
    "    (0.092456, 5, \"0.0925\"),\n",
    "    (0.092456, 4, \"0.092\"),\n",
    "    (0.092456, 3, \"0.09\"),\n",
    "    (-0.092456, 3, \"-0.09\"),\n",
    "    (6.092456, 4, \"6.092\"),\n",
    "    (6.092456, 3, \"6.09\"),\n",
    "    (6.092456, 1, \"6\"),\n",
    "    (60.92456, 1, \"60\"),\n",
    "    (609.2456, 1, \"609\"),\n",
    "    (-609.2456, 1, \"-609\"),\n",
    "    (0.03, 4, \"0.030\"),\n",
    "    (567, 1, \"567\"),\n",
    "]\n",
    "\n",
    "\n",
    "tp = TablePrinter(8, 15, 15, 15)\n",
    "tp.print_header(\"width\", \"number\", \"expected\", \"actual\")\n",
    "for x, n, expected in sig_examples:\n",
    "    tp.print_row(n, x, expected, fixed_digits(x, n))\n",
    "    \n",
    "\n",
    "table = [[\"width\", \"number\", \"expected\", \"actual\"], None] + [\n",
    "    [n, x, expected, fixed_digits(x, n)]\n",
    "    for x, n, expected in sig_examples\n",
    "]\n",
    "print_list_of_rows(table, width=10, space=5)"
   ]
  },
  {
   "cell_type": "code",
   "execution_count": null,
   "id": "b4c7da86",
   "metadata": {},
   "outputs": [],
   "source": []
  },
  {
   "cell_type": "code",
   "execution_count": null,
   "id": "b63cd7a0",
   "metadata": {},
   "outputs": [],
   "source": []
  }
 ],
 "metadata": {
  "kernelspec": {
   "display_name": "Python 3 (ipykernel)",
   "language": "python",
   "name": "python3"
  },
  "language_info": {
   "codemirror_mode": {
    "name": "ipython",
    "version": 3
   },
   "file_extension": ".py",
   "mimetype": "text/x-python",
   "name": "python",
   "nbconvert_exporter": "python",
   "pygments_lexer": "ipython3",
   "version": "3.7.1"
  }
 },
 "nbformat": 4,
 "nbformat_minor": 5
}
