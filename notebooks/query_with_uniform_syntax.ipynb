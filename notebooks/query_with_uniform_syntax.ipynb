{
 "cells": [
  {
   "cell_type": "markdown",
   "id": "5173d8f5",
   "metadata": {},
   "source": [
    "# Database Querying with a Uniform Syntax\n",
    "\n",
    "In my academic days, before Google Scholar came along, I was a big user of [PubMed](https://pubmed.ncbi.nlm.nih.gov/) for searching through the scientific literature. I became very familiar with PubMed's query syntax - things of the sort:\n",
    "\n",
    "``` parsons sp[au] and (intestine[title] or channel[title]) ```\n",
    "\n",
    "When I was writing a search engine at my first industry job, I thought this would make a great interface. The UI would only need a single text box for inputting the query. I had seen too many times in UIs the following pattern. Each field is queried with a separate UI element(s), e.g. a text box for each string field, a check box for each boolean field, a text box and drop-down comparator for each numeric field. The fields can only be combined in limited ways (all OR or all AND) or else there has to be a bunch more UI elements for selecting AND, OR, NOT. Boolean expression can certainly not be combined in parentheses.\n",
    "\n",
    "Implementing a simple PubMed-style query, requires a parser to parse the query. I came across the [Pyparsing package](https://pyparsing-docs.readthedocs.io/en/latest/index.html) which was included in some other package I was using (I can't remember which) and from there the booklet, \"Getting started with Pyparsing\" by Paul McGuire (2007, O'Reilly). A section of that book (\"Parsing a search string\") essentially gave me the code I was looking for. Perfect!\n",
    "\n",
    "In this repository I have written an class (`Query`) that does the parsing outlined in McGuire. This is a base (abtract) class. It can be inherited from to implement the same PubMed-like query interface for different kinds of database. `ObjectListQuery(Query)` is used to query a list of objects of any type (class objects, dictionaries, etc.). Fields are added simply with a one-line specification. `SQLQuery(Query)` is used to generate SQL queries. You can write your own subclass!\n",
    "\n",
    "\n",
    "#### References\n",
    "\n",
    "McGuire (2007). Getting started with Pyparsing. O'Reilly."
   ]
  },
  {
   "cell_type": "code",
   "execution_count": 1,
   "id": "bf0ed4e7",
   "metadata": {
    "scrolled": true
   },
   "outputs": [],
   "source": [
    "import datetime\n",
    "from dataclasses import dataclass\n",
    "import sys\n",
    "import os\n",
    "\n",
    "sys.path.append(os.path.abspath(\"..\"))\n",
    "from resume.query.objectlistquery import ObjectListQuery"
   ]
  },
  {
   "cell_type": "markdown",
   "id": "dda29f61",
   "metadata": {},
   "source": [
    "## Querying a list of objects\n",
    "\n",
    "The `ObjectListQuery` class lets you query any list of objects. The objects can be of any type.\n",
    "\n",
    "Say we have a list of dictionaries, each dictionary describing a specimen in a zoological museum."
   ]
  },
  {
   "cell_type": "code",
   "execution_count": 2,
   "id": "7c6bcdf0",
   "metadata": {},
   "outputs": [],
   "source": [
    "museum_specimens = [\n",
    "    {\n",
    "        \"name\": \"zebra\", \"caught\": datetime.datetime(2010, 3, 15),\n",
    "        \"dimensions\": {\"height\": 1.4, \"length\": 1.8}, \n",
    "        \"appendages\": {\"legs\": 4}\n",
    "    },\n",
    "    {\n",
    "        \"name\": \"monkey\", \"caught\": datetime.datetime(2002, 4, 11),\n",
    "        \"dimensions\": {\"height\": 1.2}, \n",
    "        \"appendages\": {\"legs\": 2, \"arms\": 2}\n",
    "    },\n",
    "    {\n",
    "        \"name\": \"duck\", \"caught\": datetime.datetime(1987, 11, 3),\n",
    "        \"dimensions\": {\"height\": 0.15, \"length\": 0.24}, \n",
    "        \"appendages\": {\"legs\": 2, \"wings\": 2}, \n",
    "        \"abilities\": {\"flys\": True}\n",
    "    },\n",
    "    {\n",
    "        \"name\": \"whale\", \"caught\": datetime.datetime(1910, 1, 15),\n",
    "        \"dimensions\": {\"height\": 2.1, \"length\": 5.6}, \n",
    "        \"appendages\": {\"legs\": 2}\n",
    "    },\n",
    "    {\n",
    "        \"name\": \"millipede\", \"caught\": datetime.datetime(1950, 7, 21),\n",
    "        \"dimensions\": {\"height\": 0.005, \"length\": 0.04}, \n",
    "        \"appendages\": {\"legs\": 1000}\n",
    "    },\n",
    "]"
   ]
  },
  {
   "cell_type": "markdown",
   "id": "b0da2305",
   "metadata": {},
   "source": [
    "We initiate an instance of `ObjectListQuery`, specifying the attributes ('fields') we want to search by.\n",
    "\n",
    "Each field is specified by,\n",
    "\n",
    "`(<full name>, <abbreviation>, <type>) : <function that returns its value from an object>`\n",
    "\n",
    "Either the field's full name or abbreviation can be used in the search query, case insensitively. The type is used for type checking and interpretation of search operands. The function is used to retreive values from the objects and to index them."
   ]
  },
  {
   "cell_type": "code",
   "execution_count": 3,
   "id": "1efc5220",
   "metadata": {},
   "outputs": [],
   "source": [
    "querier = ObjectListQuery(fields={\n",
    "    (\"name\", \"nm\", str): (lambda x: x[\"name\"]),\n",
    "    (\"caught\", \"cg\", datetime.datetime): (lambda x: x[\"caught\"]),\n",
    "    (\"height\", \"hg\", float): (lambda x: x[\"dimensions\"][\"height\"]),\n",
    "    (\"legs\", \"lg\", int): (lambda x: x[\"appendages\"][\"legs\"]),\n",
    "    (\"arms\", \"ar\", int): (lambda x: x[\"appendages\"][\"arms\"]),\n",
    "    (\"flys\", \"fy\", bool): (lambda x: x[\"abilities\"][\"flys\"]),\n",
    "})"
   ]
  },
  {
   "cell_type": "markdown",
   "id": "fad607c9",
   "metadata": {},
   "source": [
    "Now add the specimens to the querier."
   ]
  },
  {
   "cell_type": "code",
   "execution_count": 4,
   "id": "7241c4ed",
   "metadata": {},
   "outputs": [],
   "source": [
    "querier.add_objects(museum_specimens)"
   ]
  },
  {
   "cell_type": "markdown",
   "id": "bddd3321",
   "metadata": {},
   "source": [
    "Now make some queries.\n",
    "\n",
    "Search terms must be formatted as:\n",
    "\n",
    "- String fields: can include a wildcard asterisk.\n",
    "\n",
    "- Boolean fields: true is indicated by 't' or 'T'. false is anything else.\n",
    "\n",
    "- Numeric (int or float) and datetime fields: must start with either >, < or = comparators."
   ]
  },
  {
   "cell_type": "code",
   "execution_count": 5,
   "id": "5a2fcdb2",
   "metadata": {},
   "outputs": [
    {
     "data": {
      "text/plain": [
       "[{'name': 'zebra',\n",
       "  'caught': datetime.datetime(2010, 3, 15, 0, 0),\n",
       "  'dimensions': {'height': 1.4, 'length': 1.8},\n",
       "  'appendages': {'legs': 4}},\n",
       " {'name': 'whale',\n",
       "  'caught': datetime.datetime(1910, 1, 15, 0, 0),\n",
       "  'dimensions': {'height': 2.1, 'length': 5.6},\n",
       "  'appendages': {'legs': 2}},\n",
       " {'name': 'duck',\n",
       "  'caught': datetime.datetime(1987, 11, 3, 0, 0),\n",
       "  'dimensions': {'height': 0.15, 'length': 0.24},\n",
       "  'appendages': {'legs': 2, 'wings': 2},\n",
       "  'abilities': {'flys': True}}]"
      ]
     },
     "execution_count": 5,
     "metadata": {},
     "output_type": "execute_result"
    }
   ],
   "source": [
    "querier.query(\"(<2000-01-01[caught] or z*[nm]) AND <10[LEGS]\")"
   ]
  },
  {
   "cell_type": "code",
   "execution_count": 6,
   "id": "4a34d0d9",
   "metadata": {},
   "outputs": [
    {
     "data": {
      "text/plain": [
       "[{'name': 'zebra',\n",
       "  'caught': datetime.datetime(2010, 3, 15, 0, 0),\n",
       "  'dimensions': {'height': 1.4, 'length': 1.8},\n",
       "  'appendages': {'legs': 4}}]"
      ]
     },
     "execution_count": 6,
     "metadata": {},
     "output_type": "execute_result"
    }
   ],
   "source": [
    "querier.query(\">1.2[HEIGHT] AND >2[legs]\")"
   ]
  },
  {
   "cell_type": "code",
   "execution_count": 7,
   "id": "6c4a3973",
   "metadata": {},
   "outputs": [
    {
     "data": {
      "text/plain": [
       "[{'name': 'whale',\n",
       "  'caught': datetime.datetime(1910, 1, 15, 0, 0),\n",
       "  'dimensions': {'height': 2.1, 'length': 5.6},\n",
       "  'appendages': {'legs': 2}}]"
      ]
     },
     "execution_count": 7,
     "metadata": {},
     "output_type": "execute_result"
    }
   ],
   "source": [
    "querier.query(\">1.2[HEIGHT] AND NOT >2[legs]\")"
   ]
  },
  {
   "cell_type": "markdown",
   "id": "417e2c34",
   "metadata": {},
   "source": [
    "The objects can be of any type - we only need to specify the appropriate function for retrieving a field's value from the object.\n",
    "\n",
    "For example,"
   ]
  },
  {
   "cell_type": "code",
   "execution_count": 8,
   "id": "e2f1005c",
   "metadata": {},
   "outputs": [
    {
     "data": {
      "text/plain": [
       "[Specimen(name='lobster', caught=datetime.datetime(2005, 6, 12, 0, 0), height=0.1, legs=6, arms=2),\n",
       " Specimen(name='spider', caught=datetime.datetime(1942, 10, 1, 0, 0), height=0.03, legs=8, arms=0)]"
      ]
     },
     "execution_count": 8,
     "metadata": {},
     "output_type": "execute_result"
    }
   ],
   "source": [
    "@dataclass\n",
    "class Specimen:\n",
    "    name: str\n",
    "    caught: datetime.datetime\n",
    "    height: float\n",
    "    legs: int\n",
    "    arms: int\n",
    "\n",
    "specimens_as_class_objects = [\n",
    "    Specimen(name=\"horse\", caught=datetime.datetime(1897, 10, 10), height=1.4, legs=4, arms=0),\n",
    "    Specimen(name=\"cat\", caught=datetime.datetime(1967, 5, 21), height=0.4, legs=4, arms=0),\n",
    "    Specimen(name=\"gorilla\", caught=datetime.datetime(1978, 2, 10), height=0.8, legs=2, arms=2),\n",
    "    Specimen(name=\"spider\", caught=datetime.datetime(1942, 10, 1), height=0.03, legs=8, arms=0),\n",
    "    Specimen(name=\"lobster\", caught=datetime.datetime(2005, 6, 12), height=0.1, legs=6, arms=2),\n",
    "]\n",
    "\n",
    "querier_2 = ObjectListQuery(fields={ \n",
    "    (\"name\", \"nm\", str): (lambda x: x.name),\n",
    "    (\"caught\", \"ct\", datetime.datetime): (lambda x: x.caught),\n",
    "    (\"height\", \"ht\", float): (lambda x: x.height),\n",
    "    (\"legs\", \"lg\", int): (lambda x: x.legs),\n",
    "    (\"arms\", \"ar\", int): (lambda x: x.arms),\n",
    "})\n",
    "\n",
    "querier_2.add_objects(specimens_as_class_objects)\n",
    "\n",
    "querier_2.query(\">2[legs] AND *er[name]\")"
   ]
  },
  {
   "cell_type": "markdown",
   "id": "fa3c7e4b",
   "metadata": {},
   "source": [
    "## SQL databases"
   ]
  },
  {
   "cell_type": "code",
   "execution_count": null,
   "id": "797d8e7e",
   "metadata": {},
   "outputs": [],
   "source": []
  },
  {
   "cell_type": "code",
   "execution_count": null,
   "id": "365b7f00",
   "metadata": {},
   "outputs": [],
   "source": []
  },
  {
   "cell_type": "code",
   "execution_count": null,
   "id": "0f83e54a",
   "metadata": {},
   "outputs": [],
   "source": []
  },
  {
   "cell_type": "code",
   "execution_count": null,
   "id": "121407fa",
   "metadata": {},
   "outputs": [],
   "source": []
  }
 ],
 "metadata": {
  "kernelspec": {
   "display_name": "Python 3 (ipykernel)",
   "language": "python",
   "name": "python3"
  },
  "language_info": {
   "codemirror_mode": {
    "name": "ipython",
    "version": 3
   },
   "file_extension": ".py",
   "mimetype": "text/x-python",
   "name": "python",
   "nbconvert_exporter": "python",
   "pygments_lexer": "ipython3",
   "version": "3.7.1"
  }
 },
 "nbformat": 4,
 "nbformat_minor": 5
}
