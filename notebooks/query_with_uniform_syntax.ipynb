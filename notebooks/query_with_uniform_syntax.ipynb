{
 "cells": [
  {
   "cell_type": "markdown",
   "id": "5173d8f5",
   "metadata": {},
   "source": [
    "# Database Querying with a Uniform Syntax\n",
    "\n",
    "In my academic days, before Google Scholar came along, I was a big user of [PubMed](https://pubmed.ncbi.nlm.nih.gov/) for searching through the scientific literature. I became very familiar with PubMed's query syntax - things of the sort:\n",
    "\n",
    "``` parsons sp[au] and (intestine[title] or channel[title]) ```\n",
    "\n",
    "When I was writing a search engine at my first industry job, I thought this would make a great interface. The UI would only need a single text box for inputting the query. I had seen too many times in UIs the following pattern. Each field is queried with a separate UI element(s), e.g. a text box for each string field, a check box for each boolean field, a text box and drop-down comparator for each numeric field. The fields can only be combined in limited ways (all OR or all AND) or else there has to be a bunch more UI elements for selecting AND, OR, NOT. Boolean expression can certainly not be combined in parentheses.\n",
    "\n",
    "Implementing a simple PubMed-style query, requires a parser to parse the query. I came across the [Pyparsing package](https://pyparsing-docs.readthedocs.io/en/latest/index.html) which was included in some other package I was using (I can't remember which) and from there the booklet, \"Getting started with Pyparsing\" by Paul McGuire (2007, O'Reilly). A section of that book (\"Parsing a search string\") essentially gave me the code I was looking for. Perfect!\n",
    "\n",
    "In this repository I have written an class (`Query`) that does the parsing outlined in McGuire. This is a base (abtract) class. It can be inherited from to implement the same PubMed-like query interface for different kinds of database. `ObjectListQuery(Query)` is used to query a list of objects of any type (class objects, dictionaries, etc.). Fields are added simply with a one-line specification. `SQLQuery(Query)` is used to generate SQL queries. You can write your own subclass!\n",
    "\n",
    "\n",
    "#### References\n",
    "\n",
    "McGuire (2007). Getting started with Pyparsing. O'Reilly."
   ]
  },
  {
   "cell_type": "code",
   "execution_count": 1,
   "id": "bf0ed4e7",
   "metadata": {
    "scrolled": true
   },
   "outputs": [],
   "source": [
    "import datetime\n",
    "from dataclasses import dataclass\n",
    "import random\n",
    "import sys\n",
    "import time\n",
    "import os\n",
    "\n",
    "import sqlite3\n",
    "\n",
    "sys.path.append(os.path.abspath(\"..\"))\n",
    "from resume.query.objectlistquery import ObjectListQuery\n",
    "from resume.query.sqlitequery import SQLiteQuery\n",
    "from resume.query.mongoquery import MongoQuery"
   ]
  },
  {
   "cell_type": "markdown",
   "id": "dda29f61",
   "metadata": {},
   "source": [
    "## Querying a list of objects\n",
    "\n",
    "The `ObjectListQuery` class lets you query any list of objects. The objects can be of any type.\n",
    "\n",
    "Say we have a list of dictionaries, each dictionary describing a specimen in a zoological museum."
   ]
  },
  {
   "cell_type": "code",
   "execution_count": 2,
   "id": "7c6bcdf0",
   "metadata": {},
   "outputs": [],
   "source": [
    "museum_specimens = [\n",
    "    {\n",
    "        \"name\": \"zebra\", \"caught\": datetime.datetime(2010, 3, 15),\n",
    "        \"dimensions\": {\"height\": 1.4, \"length\": 1.8}, \n",
    "        \"appendages\": {\"legs\": 4}\n",
    "    },\n",
    "    {\n",
    "        \"name\": \"monkey\", \"caught\": datetime.datetime(2002, 4, 11),\n",
    "        \"dimensions\": {\"height\": 1.2}, \n",
    "        \"appendages\": {\"legs\": 2, \"arms\": 2}\n",
    "    },\n",
    "    {\n",
    "        \"name\": \"duck\", \"caught\": datetime.datetime(1987, 11, 3),\n",
    "        \"dimensions\": {\"height\": 0.15, \"length\": 0.24}, \n",
    "        \"appendages\": {\"legs\": 2, \"wings\": 2}, \n",
    "        \"abilities\": {\"flys\": True}\n",
    "    },\n",
    "    {\n",
    "        \"name\": \"whale\", \"caught\": datetime.datetime(1910, 1, 15),\n",
    "        \"dimensions\": {\"height\": 2.1, \"length\": 5.6}, \n",
    "        \"appendages\": {\"legs\": 2}\n",
    "    },\n",
    "    {\n",
    "        \"name\": \"millipede\", \"caught\": datetime.datetime(1950, 7, 21),\n",
    "        \"dimensions\": {\"height\": 0.005, \"length\": 0.04}, \n",
    "        \"appendages\": {\"legs\": 1000}\n",
    "    },\n",
    "]"
   ]
  },
  {
   "cell_type": "markdown",
   "id": "b0da2305",
   "metadata": {},
   "source": [
    "We initiate an instance of `ObjectListQuery`, specifying the attributes ('fields') we want to search by.\n",
    "\n",
    "Each field is specified by,\n",
    "\n",
    "`(<full name>, <abbreviation>, <type>) : <function that returns its value from an object>`\n",
    "\n",
    "Either the field's full name or abbreviation can be used in the search query, case insensitively. The type is used for type checking and interpretation of search operands. The function is used to retreive values from the objects and to index them."
   ]
  },
  {
   "cell_type": "code",
   "execution_count": 3,
   "id": "1efc5220",
   "metadata": {},
   "outputs": [],
   "source": [
    "querier = ObjectListQuery(fields={\n",
    "    (\"name\", \"nm\", str): (lambda x: x[\"name\"]),\n",
    "    (\"caught\", \"cg\", datetime.datetime): (lambda x: x[\"caught\"]),\n",
    "    (\"height\", \"hg\", float): (lambda x: x[\"dimensions\"][\"height\"]),\n",
    "    (\"legs\", \"lg\", int): (lambda x: x[\"appendages\"][\"legs\"]),\n",
    "    (\"arms\", \"ar\", int): (lambda x: x[\"appendages\"][\"arms\"]),\n",
    "    (\"flys\", \"fy\", bool): (lambda x: x[\"abilities\"][\"flys\"]),\n",
    "})"
   ]
  },
  {
   "cell_type": "markdown",
   "id": "fad607c9",
   "metadata": {},
   "source": [
    "Now add the specimens to the querier."
   ]
  },
  {
   "cell_type": "code",
   "execution_count": 4,
   "id": "7241c4ed",
   "metadata": {},
   "outputs": [],
   "source": [
    "querier.add_objects(museum_specimens)"
   ]
  },
  {
   "cell_type": "markdown",
   "id": "bddd3321",
   "metadata": {},
   "source": [
    "Now make some queries.\n",
    "\n",
    "Search terms must be formatted as:\n",
    "\n",
    "- String fields: can include a wildcard asterisk.\n",
    "\n",
    "- Boolean fields: true is indicated by 't' or 'T'. false is anything else.\n",
    "\n",
    "- Numeric (int or float) and datetime fields: must start with either >, < or = comparators."
   ]
  },
  {
   "cell_type": "code",
   "execution_count": 5,
   "id": "5a2fcdb2",
   "metadata": {},
   "outputs": [
    {
     "data": {
      "text/plain": [
       "[{'name': 'zebra',\n",
       "  'caught': datetime.datetime(2010, 3, 15, 0, 0),\n",
       "  'dimensions': {'height': 1.4, 'length': 1.8},\n",
       "  'appendages': {'legs': 4}},\n",
       " {'name': 'duck',\n",
       "  'caught': datetime.datetime(1987, 11, 3, 0, 0),\n",
       "  'dimensions': {'height': 0.15, 'length': 0.24},\n",
       "  'appendages': {'legs': 2, 'wings': 2},\n",
       "  'abilities': {'flys': True}},\n",
       " {'name': 'whale',\n",
       "  'caught': datetime.datetime(1910, 1, 15, 0, 0),\n",
       "  'dimensions': {'height': 2.1, 'length': 5.6},\n",
       "  'appendages': {'legs': 2}}]"
      ]
     },
     "execution_count": 5,
     "metadata": {},
     "output_type": "execute_result"
    }
   ],
   "source": [
    "querier.query(\"(<2000-01-01[caught] or z*[nm]) AND <10[LEGS]\")"
   ]
  },
  {
   "cell_type": "code",
   "execution_count": 6,
   "id": "4a34d0d9",
   "metadata": {},
   "outputs": [
    {
     "data": {
      "text/plain": [
       "[{'name': 'zebra',\n",
       "  'caught': datetime.datetime(2010, 3, 15, 0, 0),\n",
       "  'dimensions': {'height': 1.4, 'length': 1.8},\n",
       "  'appendages': {'legs': 4}}]"
      ]
     },
     "execution_count": 6,
     "metadata": {},
     "output_type": "execute_result"
    }
   ],
   "source": [
    "querier.query(\">1.2[HEIGHT] AND >2[legs]\")"
   ]
  },
  {
   "cell_type": "code",
   "execution_count": 7,
   "id": "6c4a3973",
   "metadata": {},
   "outputs": [
    {
     "data": {
      "text/plain": [
       "[{'name': 'whale',\n",
       "  'caught': datetime.datetime(1910, 1, 15, 0, 0),\n",
       "  'dimensions': {'height': 2.1, 'length': 5.6},\n",
       "  'appendages': {'legs': 2}}]"
      ]
     },
     "execution_count": 7,
     "metadata": {},
     "output_type": "execute_result"
    }
   ],
   "source": [
    "querier.query(\">1.2[HEIGHT] AND NOT >2[legs]\")"
   ]
  },
  {
   "cell_type": "markdown",
   "id": "417e2c34",
   "metadata": {},
   "source": [
    "### Objects of any type\n",
    "\n",
    "The objects can be of any type - we only need to specify the appropriate function for retrieving a field's value from the object.\n",
    "\n",
    "For example,"
   ]
  },
  {
   "cell_type": "code",
   "execution_count": 8,
   "id": "e2f1005c",
   "metadata": {},
   "outputs": [
    {
     "data": {
      "text/plain": [
       "[Specimen(name='spider', caught=datetime.datetime(1942, 10, 1, 0, 0), height=0.03, legs=8, arms=0),\n",
       " Specimen(name='lobster', caught=datetime.datetime(2005, 6, 12, 0, 0), height=0.1, legs=6, arms=2)]"
      ]
     },
     "execution_count": 8,
     "metadata": {},
     "output_type": "execute_result"
    }
   ],
   "source": [
    "@dataclass\n",
    "class Specimen:\n",
    "    name: str\n",
    "    caught: datetime.datetime\n",
    "    height: float\n",
    "    legs: int\n",
    "    arms: int\n",
    "\n",
    "specimens_as_class_objects = [\n",
    "    Specimen(name=\"horse\", caught=datetime.datetime(1897, 10, 10), height=1.4, legs=4, arms=0),\n",
    "    Specimen(name=\"cat\", caught=datetime.datetime(1967, 5, 21), height=0.4, legs=4, arms=0),\n",
    "    Specimen(name=\"gorilla\", caught=datetime.datetime(1978, 2, 10), height=0.8, legs=2, arms=2),\n",
    "    Specimen(name=\"spider\", caught=datetime.datetime(1942, 10, 1), height=0.03, legs=8, arms=0),\n",
    "    Specimen(name=\"lobster\", caught=datetime.datetime(2005, 6, 12), height=0.1, legs=6, arms=2),\n",
    "]\n",
    "\n",
    "querier = ObjectListQuery(fields={ \n",
    "    (\"name\", \"nm\", str): (lambda x: x.name),\n",
    "    (\"caught\", \"ct\", datetime.datetime): (lambda x: x.caught),\n",
    "    (\"height\", \"ht\", float): (lambda x: x.height),\n",
    "    (\"legs\", \"lg\", int): (lambda x: x.legs),\n",
    "    (\"arms\", \"ar\", int): (lambda x: x.arms),\n",
    "})\n",
    "\n",
    "querier.add_objects(specimens_as_class_objects)\n",
    "\n",
    "querier.query(\">2[legs] AND *er[name]\")"
   ]
  },
  {
   "cell_type": "markdown",
   "id": "3c0275f0",
   "metadata": {},
   "source": [
    "### Provide your own object identifiers\n",
    "\n",
    "When you add objects with a call to `ObjectListQuery.add_objects()` it creates [\"covering indexes\"](https://en.wikipedia.org/wiki/Database_index). i.e. it associates every object with a unique ID and extracts the value for each field from the object and maps it (\"indexes it\") with its object's ID.\n",
    "\n",
    "Normally `ObjectListQuery.add_objects()` will generate its own object IDs (a [UUID4](https://en.wikipedia.org/wiki/Universally_unique_identifier)). However you may already provide your objects with unique identifiers. In this case, you may provide a function to `ObjectListQuery.add_objects()` (`identifier_foo` argument) that will retrieve the identifier from each object.\n",
    "\n",
    "`ObjectListQuery` puts no checks on whether your identifiers are actually unique."
   ]
  },
  {
   "cell_type": "code",
   "execution_count": 9,
   "id": "a46a8fbd",
   "metadata": {},
   "outputs": [
    {
     "data": {
      "text/plain": [
       "[Specimen(idx=32, name='lobster', caught=datetime.datetime(2005, 6, 12, 0, 0), height=0.1, legs=6, arms=2),\n",
       " Specimen(idx=-7, name='spider', caught=datetime.datetime(1942, 10, 1, 0, 0), height=0.03, legs=8, arms=0)]"
      ]
     },
     "execution_count": 9,
     "metadata": {},
     "output_type": "execute_result"
    }
   ],
   "source": [
    "@dataclass\n",
    "class Specimen:\n",
    "    idx: int\n",
    "    name: str\n",
    "    caught: datetime.datetime\n",
    "    height: float\n",
    "    legs: int\n",
    "    arms: int\n",
    "\n",
    "specimens_as_class_objects = [\n",
    "    Specimen(idx=67, name=\"horse\", caught=datetime.datetime(1897, 10, 10), height=1.4, legs=4, arms=0),\n",
    "    Specimen(idx=180, name=\"cat\", caught=datetime.datetime(1967, 5, 21), height=0.4, legs=4, arms=0),\n",
    "    Specimen(idx=201, name=\"gorilla\", caught=datetime.datetime(1978, 2, 10), height=0.8, legs=2, arms=2),\n",
    "    Specimen(idx=-7, name=\"spider\", caught=datetime.datetime(1942, 10, 1), height=0.03, legs=8, arms=0),\n",
    "    Specimen(idx=32, name=\"lobster\", caught=datetime.datetime(2005, 6, 12), height=0.1, legs=6, arms=2),\n",
    "]\n",
    "\n",
    "querier = ObjectListQuery(fields={ \n",
    "    (\"name\", \"nm\", str): (lambda x: x.name),\n",
    "    (\"caught\", \"ct\", datetime.datetime): (lambda x: x.caught),\n",
    "    (\"height\", \"ht\", float): (lambda x: x.height),\n",
    "    (\"legs\", \"lg\", int): (lambda x: x.legs),\n",
    "    (\"arms\", \"ar\", int): (lambda x: x.arms),\n",
    "})\n",
    "\n",
    "querier.add_objects(specimens_as_class_objects, identifier_foo=(lambda x: x.idx))\n",
    "\n",
    "querier.query(\">2[legs] AND *er[name]\")"
   ]
  },
  {
   "cell_type": "markdown",
   "id": "c7efcfe1",
   "metadata": {},
   "source": [
    "### Performance\n",
    "\n",
    "I haven't worked *that much* on performance, but it ain't bad. \n",
    "\n",
    "It appears to be O(n) on the number of objects but is somewhat sensitive to the complexity of the query."
   ]
  },
  {
   "cell_type": "code",
   "execution_count": 10,
   "id": "634ffdda",
   "metadata": {},
   "outputs": [
    {
     "name": "stdout",
     "output_type": "stream",
     "text": [
      "3470 of 20000 objects returned in 20.409 ms\n"
     ]
    }
   ],
   "source": [
    "# Number of objects to test with.\n",
    "n_obj = 20_000\n",
    "\n",
    "# Querier.\n",
    "querier = ObjectListQuery(fields={\n",
    "    (\"name\", \"nm\", str): (lambda x: x[\"name\"]),\n",
    "    (\"caught\", \"cg\", datetime.datetime): (lambda x: x[\"caught\"]),\n",
    "    (\"height\", \"hg\", float): (lambda x: x[\"dimensions\"][\"height\"]),\n",
    "    (\"legs\", \"lg\", int): (lambda x: x[\"appendages\"][\"legs\"]),\n",
    "    (\"arms\", \"ar\", int): (lambda x: x[\"appendages\"][\"arms\"]),\n",
    "    (\"flys\", \"fy\", bool): (lambda x: x[\"abilities\"][\"flys\"]),\n",
    "})\n",
    "\n",
    "# Some animal names and caught dates to use.\n",
    "names = [\"duck\", \"rabbit\", \"goat\", \"whale\", \"horse\", \"beastie\", \"elk\", \"antelope\", \"gnu\", \"penguin\"]\n",
    "caught_range = [\n",
    "    datetime.datetime(1900, 1, 1).timestamp(), datetime.datetime(2000, 1, 1).timestamp()\n",
    "]\n",
    "\n",
    "# Add random objects.\n",
    "querier.add_objects([\n",
    "    {\n",
    "        \"name\": random.choice(names), \"caught\": datetime.datetime.fromtimestamp(random.uniform(*caught_range)),\n",
    "        \"dimensions\": {\"height\": random.uniform(0.1, 1.5), \"length\": random.uniform(0.01, 20)}, \n",
    "        \"appendages\": {\"legs\": random.randint(0, 4), \"arms\": random.randint(0, 2)}, \n",
    "        \"abilities\": {\"flys\": random.random() > 0.5}\n",
    "    }\n",
    "    for _ in range(n_obj)\n",
    "])\n",
    "\n",
    "# Time for a query.\n",
    "t0 = time.perf_counter()\n",
    "objs = querier.query(\"*el*[nm] and (>0.5[hg] or >1950-10-01[caught])\")\n",
    "dt = 1000 * (time.perf_counter() - t0)\n",
    "\n",
    "print(f\"{len(objs)} of {n_obj} objects returned in {dt:.3f} ms\")"
   ]
  },
  {
   "cell_type": "markdown",
   "id": "fa3c7e4b",
   "metadata": {},
   "source": [
    "## SQL databases: SQLite\n",
    "\n",
    "`SQLiteQuery(Query)` converts a boolean query into a SQLite query."
   ]
  },
  {
   "cell_type": "code",
   "execution_count": 11,
   "id": "365b7f00",
   "metadata": {},
   "outputs": [],
   "source": [
    "# Connect to an example database.\n",
    "# This contains an \"animal\" table.\n",
    "db = sqlite3.connect(\"animals.sqlite3\")"
   ]
  },
  {
   "cell_type": "code",
   "execution_count": 12,
   "id": "7b3c4b35",
   "metadata": {},
   "outputs": [],
   "source": [
    "querier = SQLiteQuery(fields={\n",
    "    (\"name\", \"nm\", str): \"name\",\n",
    "    (\"caught\", \"cg\", datetime.datetime): \"caught\",\n",
    "    (\"height\", \"hg\", float): \"height\",\n",
    "    (\"legs\", \"lg\", int): \"legs\",\n",
    "    (\"arms\", \"ar\", int): \"arms\",\n",
    "    (\"flys\", \"fy\", bool): \"flys\",\n",
    "}, table=\"specimens\")"
   ]
  },
  {
   "cell_type": "code",
   "execution_count": 13,
   "id": "56ae4ad4",
   "metadata": {},
   "outputs": [
    {
     "name": "stdout",
     "output_type": "stream",
     "text": [
      "SELECT * FROM specimens WHERE ((CAST(strftime('%s', \"caught\") AS INT) < 946684800 OR \"name\" LIKE 'z%') AND \"legs\" < 10)\n"
     ]
    },
    {
     "data": {
      "text/plain": [
       "[('zebra', '2010-03-15', 1.4, 1.8, 4, 0, 0),\n",
       " ('duck', '1987-11-03', 0.15, 0.24, 2, 0, 1),\n",
       " ('whale', '1910-01-15', 2.1, 5.6, 2, 0, 0)]"
      ]
     },
     "execution_count": 13,
     "metadata": {},
     "output_type": "execute_result"
    }
   ],
   "source": [
    "query = querier.query(\"(<2000-01-01[caught] or z*[nm]) AND <10[LEGS]\")\n",
    "print(query)\n",
    "list(db.execute(query))"
   ]
  },
  {
   "cell_type": "code",
   "execution_count": 14,
   "id": "34d57cdf",
   "metadata": {},
   "outputs": [
    {
     "name": "stdout",
     "output_type": "stream",
     "text": [
      "SELECT * FROM specimens WHERE NOT ((\"flys\" = 1 OR \"legs\" > 10))\n"
     ]
    },
    {
     "data": {
      "text/plain": [
       "[('zebra', '2010-03-15', 1.4, 1.8, 4, 0, 0),\n",
       " ('monkey', '2002-04-11', 1.2, None, 2, 2, 0),\n",
       " ('whale', '1910-01-15', 2.1, 5.6, 2, 0, 0)]"
      ]
     },
     "execution_count": 14,
     "metadata": {},
     "output_type": "execute_result"
    }
   ],
   "source": [
    "query = querier.query(\"not (t[flys] or >10[lg])\")\n",
    "print(query)\n",
    "list(db.execute(query))"
   ]
  },
  {
   "cell_type": "code",
   "execution_count": 15,
   "id": "121407fa",
   "metadata": {},
   "outputs": [],
   "source": [
    "db.close()"
   ]
  },
  {
   "cell_type": "markdown",
   "id": "98ed4236",
   "metadata": {},
   "source": [
    "## NoSQL databases: MongoDB\n",
    "\n",
    "`MongoQuery` converts a boolean query into a MongoDB query dictionary for PyMongo. The fields argument for the constructor is the same as for `ObjectListQuery`, except the function to return the value of a document/dictionary field is replaced by the period-delimited path of the field. e.g.,\n",
    "\n",
    "`lambda x: x[\"a\"][\"b\"]   =>  \"a.b\"`\n",
    "\n",
    "I have nor included an actual MongoDB database here - you can do that yourself!\n",
    "\n",
    "https://www.mongodb.com/docs/manual/tutorial/query-documents/\n",
    "\n",
    "https://www.mongodb.com/docs/manual/tutorial/query-embedded-documents/"
   ]
  },
  {
   "cell_type": "code",
   "execution_count": 16,
   "id": "86cf5d65",
   "metadata": {},
   "outputs": [
    {
     "data": {
      "text/plain": [
       "{'$and': [{'name': {'$regex': 'el'}},\n",
       "  {'$or': [{'dimensions.height': {'$gt': 0.5}},\n",
       "    {'caught': {'$gt': datetime.datetime(1950, 10, 1, 0, 0)}}]}]}"
      ]
     },
     "execution_count": 16,
     "metadata": {},
     "output_type": "execute_result"
    }
   ],
   "source": [
    "querier = MongoQuery(fields={\n",
    "    (\"name\", \"nm\", str): \"name\",\n",
    "    (\"caught\", \"cg\", datetime.datetime): \"caught\",\n",
    "    (\"height\", \"hg\", float): \"dimensions.height\",\n",
    "    (\"legs\", \"lg\", int): \"appendages.legs\",\n",
    "    (\"arms\", \"ar\", int): \"appendages.arms\",\n",
    "    (\"flys\", \"fy\", bool): \"abilities.flys\",\n",
    "})\n",
    "\n",
    "querier.query(\"*el*[nm] and (>0.5[hg] or >1950-10-01[cg])\")"
   ]
  },
  {
   "cell_type": "code",
   "execution_count": null,
   "id": "b26dd05c",
   "metadata": {},
   "outputs": [],
   "source": []
  },
  {
   "cell_type": "code",
   "execution_count": null,
   "id": "a33788b1",
   "metadata": {},
   "outputs": [],
   "source": []
  },
  {
   "cell_type": "code",
   "execution_count": null,
   "id": "70893e97",
   "metadata": {},
   "outputs": [],
   "source": []
  },
  {
   "cell_type": "code",
   "execution_count": null,
   "id": "71af8e42",
   "metadata": {},
   "outputs": [],
   "source": []
  }
 ],
 "metadata": {
  "kernelspec": {
   "display_name": "Python 3 (ipykernel)",
   "language": "python",
   "name": "python3"
  },
  "language_info": {
   "codemirror_mode": {
    "name": "ipython",
    "version": 3
   },
   "file_extension": ".py",
   "mimetype": "text/x-python",
   "name": "python",
   "nbconvert_exporter": "python",
   "pygments_lexer": "ipython3",
   "version": "3.7.1"
  }
 },
 "nbformat": 4,
 "nbformat_minor": 5
}
