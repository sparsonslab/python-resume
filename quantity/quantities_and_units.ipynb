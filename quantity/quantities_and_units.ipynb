{
 "cells": [
  {
   "cell_type": "markdown",
   "id": "fc053e96",
   "metadata": {},
   "source": [
    "# Dimensional Analysis - The Quantity Class\n",
    "\n",
    "Physical equations usually involve quantities with both a value and units. The units represent the variable's \"dimension\" in space, time and mass.\n",
    "\n",
    "Dimensional analysis involves making sure that the dimensions of quantities in an equation are commensurate when combined. That is when two quantities are added, subtracted or equated they have the same dimension.\n",
    "\n",
    "Also we often need to convert a quantity's value from one set of units to another.\n",
    "\n",
    "Dimensional analysis and unit conversion by-hand is often a pain, especially when variables are raised by exponents and expressed in different, often non-base, units. To prevent headaches I wrote the `Quantity` class to represent a value and its units.\n",
    "\n",
    "\n",
    "#### References\n",
    "\n",
    "https://en.wikipedia.org/wiki/Dimensional_analysis\n",
    "\n",
    "https://en.wikipedia.org/wiki/SI_derived_unit\n",
    "\n",
    "\n",
    "#### Similar packages\n",
    "\n",
    "SymPy https://docs.sympy.org/latest/modules/physics/units/index.html\n",
    "\n",
    "SymDim\n",
    "\n",
    "Pint\n",
    "\n",
    "https://pypi.org/project/numericalunits/\n",
    "\n",
    "https://github.com/saadgroup/BuckinghamPy"
   ]
  },
  {
   "cell_type": "code",
   "execution_count": 1,
   "id": "e3bc83fe",
   "metadata": {},
   "outputs": [],
   "source": [
    "from quantity import Quantity\n",
    "\n",
    "import numpy as np"
   ]
  },
  {
   "cell_type": "markdown",
   "id": "464b78ae",
   "metadata": {},
   "source": [
    "## Specifying a quantity\n",
    "\n",
    "A `Quantity` is defined in terms of a value and a variable number of unit arguments. \n",
    "\n",
    "```python\n",
    "my_quantity = Quantity(value, *units)\n",
    "```\n",
    "\n",
    "Each unit argument is either a single value or a tuple of up to three values in the following order:\n",
    "\n",
    "```\n",
    "unit = scale | (n, scale, p) | (scale, p) | (n, scale) | \"n,scale,p\" | \"n,scale\" | \"scale,p\"\n",
    "```\n",
    "\n",
    "***n*** is a base-10 multiplier. This can be given as an integer (-6 for micro, -2 for centi, etc.) or short string ('mu' for micro-, 'c' for centi-, etc.). Allowable values are given in the table below.\n",
    "\n",
    "***scale*** The unit name ('g' for gram, 'm' for metre, etc.). Any character or string is allowed.\n",
    "\n",
    "***p*** - the dimensional exponent of the unit.\n",
    "\n",
    "$$ unit = (10^n \\times scale)^{p} $$\n",
    "\n",
    "\n",
    "*n* and *p* an be exlcuded when they are superfluous ($n=0$ or $p=1$). For instance, the following declarations are equivalent for 3.5 grams."
   ]
  },
  {
   "cell_type": "code",
   "execution_count": 20,
   "id": "0058167e",
   "metadata": {},
   "outputs": [
    {
     "name": "stdout",
     "output_type": "stream",
     "text": [
      "3.5 g^1\n",
      "3.5 g^1\n",
      "3.5 g^1\n",
      "3.5 g^1\n",
      "3.5 g^1\n",
      "3.5 g^1\n",
      "3.5 g^1\n"
     ]
    }
   ],
   "source": [
    "mass = Quantity(3.5, (0, \"g\", 1))\n",
    "print(mass)\n",
    "\n",
    "mass = Quantity(3.5, (0, \"g\"))\n",
    "print(mass)\n",
    "\n",
    "mass = Quantity(3.5, (\"g\", 1))\n",
    "print(mass)\n",
    "\n",
    "mass = Quantity(3.5, \"g\")\n",
    "print(mass)\n",
    "\n",
    "mass = Quantity(3.5, \"0,g,1\")\n",
    "print(mass)\n",
    "\n",
    "mass = Quantity(3.5, \"0,g\")\n",
    "print(mass)\n",
    "\n",
    "mass = Quantity(3.5, \"g,1\")\n",
    "print(mass)"
   ]
  },
  {
   "cell_type": "markdown",
   "id": "97db8b32",
   "metadata": {},
   "source": [
    "These are the valid string arguments for *n*."
   ]
  },
  {
   "cell_type": "code",
   "execution_count": 18,
   "id": "81d43b6a",
   "metadata": {},
   "outputs": [
    {
     "data": {
      "text/plain": [
       "{'a': -18,\n",
       " 'f': -15,\n",
       " 'p': -12,\n",
       " 'n': -9,\n",
       " 'mu': -6,\n",
       " 'm': -3,\n",
       " 'c': -2,\n",
       " 'd': -1,\n",
       " 'da': 1,\n",
       " 'h': 2,\n",
       " 'k': 3,\n",
       " 'M': 6,\n",
       " 'G': 9,\n",
       " 'T': 12,\n",
       " 'P': 15}"
      ]
     },
     "execution_count": 18,
     "metadata": {},
     "output_type": "execute_result"
    }
   ],
   "source": [
    "Quantity.UNIT_PREFIXS"
   ]
  },
  {
   "cell_type": "markdown",
   "id": "9e6f7245",
   "metadata": {},
   "source": [
    "For instance, the following are equivalent."
   ]
  },
  {
   "cell_type": "code",
   "execution_count": 3,
   "id": "b578cd0b",
   "metadata": {},
   "outputs": [
    {
     "name": "stdout",
     "output_type": "stream",
     "text": [
      "1.0 kg^1\n",
      "1.0 (10^-3.g)^1\n"
     ]
    }
   ],
   "source": [
    "mass = Quantity(1.0, 'k,g')\n",
    "print(mass)\n",
    "\n",
    "mass = Quantity(1.0, '-3,g')\n",
    "print(mass)"
   ]
  },
  {
   "cell_type": "markdown",
   "id": "a9c48745",
   "metadata": {},
   "source": [
    "This throws an error."
   ]
  },
  {
   "cell_type": "code",
   "execution_count": 4,
   "id": "0f845f2f",
   "metadata": {},
   "outputs": [
    {
     "ename": "KeyError",
     "evalue": "'z is not a recognised unit prefix.'",
     "output_type": "error",
     "traceback": [
      "\u001b[0;31m---------------------------------------------------------------------------\u001b[0m",
      "\u001b[0;31mKeyError\u001b[0m                                  Traceback (most recent call last)",
      "\u001b[0;32m/var/folders/bl/qlsqj1vs2x37_vwrrsy9hb3c0000gn/T/ipykernel_6818/3540035536.py\u001b[0m in \u001b[0;36m<module>\u001b[0;34m\u001b[0m\n\u001b[0;32m----> 1\u001b[0;31m \u001b[0mmass\u001b[0m \u001b[0;34m=\u001b[0m \u001b[0mQuantity\u001b[0m\u001b[0;34m(\u001b[0m\u001b[0;36m1.0\u001b[0m\u001b[0;34m,\u001b[0m \u001b[0;34m'z,g'\u001b[0m\u001b[0;34m)\u001b[0m\u001b[0;34m\u001b[0m\u001b[0;34m\u001b[0m\u001b[0m\n\u001b[0m",
      "\u001b[0;32m~/PycharmProjects/python-resume/quantity/quantity.py\u001b[0m in \u001b[0;36m__init__\u001b[0;34m(self, value, *units)\u001b[0m\n\u001b[1;32m     86\u001b[0m         \u001b[0mself\u001b[0m\u001b[0;34m.\u001b[0m\u001b[0mvalue\u001b[0m \u001b[0;34m=\u001b[0m \u001b[0mvalue\u001b[0m\u001b[0;34m\u001b[0m\u001b[0;34m\u001b[0m\u001b[0m\n\u001b[1;32m     87\u001b[0m         \u001b[0mself\u001b[0m\u001b[0;34m.\u001b[0m\u001b[0munits\u001b[0m \u001b[0;34m=\u001b[0m \u001b[0;34m[\u001b[0m\u001b[0mself\u001b[0m\u001b[0;34m.\u001b[0m\u001b[0m_normalize_unit\u001b[0m\u001b[0;34m(\u001b[0m\u001b[0munit\u001b[0m\u001b[0;34m)\u001b[0m \u001b[0;32mfor\u001b[0m \u001b[0munit\u001b[0m \u001b[0;32min\u001b[0m \u001b[0munits\u001b[0m\u001b[0;34m]\u001b[0m\u001b[0;34m\u001b[0m\u001b[0;34m\u001b[0m\u001b[0m\n\u001b[0;32m---> 88\u001b[0;31m         \u001b[0mself\u001b[0m\u001b[0;34m.\u001b[0m\u001b[0mmultiplier\u001b[0m\u001b[0;34m,\u001b[0m \u001b[0mself\u001b[0m\u001b[0;34m.\u001b[0m\u001b[0mbase_units\u001b[0m \u001b[0;34m=\u001b[0m \u001b[0mQuantity\u001b[0m\u001b[0;34m.\u001b[0m\u001b[0mbase_units\u001b[0m\u001b[0;34m(\u001b[0m\u001b[0;34m*\u001b[0m\u001b[0mself\u001b[0m\u001b[0;34m.\u001b[0m\u001b[0munits\u001b[0m\u001b[0;34m)\u001b[0m\u001b[0;34m\u001b[0m\u001b[0;34m\u001b[0m\u001b[0m\n\u001b[0m\u001b[1;32m     89\u001b[0m \u001b[0;34m\u001b[0m\u001b[0m\n\u001b[1;32m     90\u001b[0m     \u001b[0;32mdef\u001b[0m \u001b[0m_normalize_unit\u001b[0m\u001b[0;34m(\u001b[0m\u001b[0mself\u001b[0m\u001b[0;34m,\u001b[0m \u001b[0munit\u001b[0m\u001b[0;34m)\u001b[0m\u001b[0;34m:\u001b[0m\u001b[0;34m\u001b[0m\u001b[0;34m\u001b[0m\u001b[0m\n",
      "\u001b[0;32m~/PycharmProjects/python-resume/quantity/quantity.py\u001b[0m in \u001b[0;36mbase_units\u001b[0;34m(*compound_unit)\u001b[0m\n\u001b[1;32m    276\u001b[0m                     \u001b[0mn\u001b[0m \u001b[0;34m=\u001b[0m \u001b[0mQuantity\u001b[0m\u001b[0;34m.\u001b[0m\u001b[0mUNIT_PREFIXS\u001b[0m\u001b[0;34m[\u001b[0m\u001b[0mn\u001b[0m\u001b[0;34m]\u001b[0m\u001b[0;34m\u001b[0m\u001b[0;34m\u001b[0m\u001b[0m\n\u001b[1;32m    277\u001b[0m                 \u001b[0;32melse\u001b[0m\u001b[0;34m:\u001b[0m\u001b[0;34m\u001b[0m\u001b[0;34m\u001b[0m\u001b[0m\n\u001b[0;32m--> 278\u001b[0;31m                     \u001b[0;32mraise\u001b[0m \u001b[0mKeyError\u001b[0m\u001b[0;34m(\u001b[0m\u001b[0;34mf\"{n} is not a recognised unit prefix.\"\u001b[0m\u001b[0;34m)\u001b[0m\u001b[0;34m\u001b[0m\u001b[0;34m\u001b[0m\u001b[0m\n\u001b[0m\u001b[1;32m    279\u001b[0m \u001b[0;34m\u001b[0m\u001b[0m\n\u001b[1;32m    280\u001b[0m             \u001b[0;31m# Derived unit.\u001b[0m\u001b[0;34m\u001b[0m\u001b[0;34m\u001b[0m\u001b[0;34m\u001b[0m\u001b[0m\n",
      "\u001b[0;31mKeyError\u001b[0m: 'z is not a recognised unit prefix.'"
     ]
    }
   ],
   "source": [
    "mass = Quantity(1.0, 'z,g')"
   ]
  },
  {
   "cell_type": "markdown",
   "id": "55285936",
   "metadata": {},
   "source": [
    "Quantities with compound units are declared with multiple unit arguments."
   ]
  },
  {
   "cell_type": "code",
   "execution_count": 5,
   "id": "5eda0c2f",
   "metadata": {},
   "outputs": [
    {
     "name": "stdout",
     "output_type": "stream",
     "text": [
      "9.8 m^1.s^-2\n",
      "2.1 kg^1.m^2.s^-3.A^2\n"
     ]
    }
   ],
   "source": [
    "acceleration_of_freefall = Quantity(9.8, \"m\", (\"s\", -2))\n",
    "print(acceleration_of_freefall)\n",
    "\n",
    "resistance = Quantity(2.1, (\"k\" \"g\"), (\"m\", 2), (\"s\", -3), (\"A\", 2))\n",
    "print(resistance)"
   ]
  },
  {
   "cell_type": "markdown",
   "id": "6b76e72d",
   "metadata": {},
   "source": [
    "Unitless quantities have no unit arguments."
   ]
  },
  {
   "cell_type": "code",
   "execution_count": 6,
   "id": "14e33c53",
   "metadata": {},
   "outputs": [
    {
     "name": "stdout",
     "output_type": "stream",
     "text": [
      "3.14159265 \n"
     ]
    }
   ],
   "source": [
    "pi = Quantity(3.14159265)\n",
    "print(pi)"
   ]
  },
  {
   "cell_type": "markdown",
   "id": "772d2d74",
   "metadata": {},
   "source": [
    "The value can be a numpy array."
   ]
  },
  {
   "cell_type": "code",
   "execution_count": 7,
   "id": "696cd5f6",
   "metadata": {},
   "outputs": [
    {
     "name": "stdout",
     "output_type": "stream",
     "text": [
      "[0.  0.5 1.5 5.6] m^1.s^-1\n"
     ]
    }
   ],
   "source": [
    "speeds = Quantity(np.array([0.0, 0.5, 1.5, 5.6]), \"m\", (\"s\", -1))\n",
    "print(speeds)"
   ]
  },
  {
   "cell_type": "markdown",
   "id": "ab5e0633",
   "metadata": {},
   "source": [
    "## Base and derived units\n",
    "\n",
    "Base SI units are specified by the following strings.\n",
    "\n",
    "|SI unit|unit string|\n",
    "|--|--|\n",
    "|kilogram|kg|\n",
    "|meter|m|\n",
    "|second|s|\n",
    "|Ampere|A|\n",
    "|Kelvin|K|\n",
    "\n",
    "A number of derived (non-base) SI units are also recognised.\n",
    "\n",
    "|Category|derived unit|unit string|\n",
    "|--|--|--|\n",
    "|**Mechanical**|Joule|J|\n",
    "||Newton|N|\n",
    "||Watt|W|\n",
    "||Pascal|Pa|\n",
    "|**Electrical**|Ohm|Ohm|\n",
    "||Siemen|S|\n",
    "||Volt|V|\n",
    "||Farad|F|\n",
    "||Coulomb|C|\n",
    "|**Non-compound**|Litre|L|\n",
    "||Hertz|Hz|\n",
    "||gram|g|\n",
    "\n",
    "\n",
    "Quantities can be converted to base units by calling `to_base_units()`. However this isn't necessary other then for display."
   ]
  },
  {
   "cell_type": "code",
   "execution_count": 8,
   "id": "833a4c7d",
   "metadata": {},
   "outputs": [
    {
     "name": "stdout",
     "output_type": "stream",
     "text": [
      "1.0 kg^1.m^-1.s^-2\n",
      "1.0 kg^1.m^2.s^-3.A^-2\n",
      "0.002 m^3\n"
     ]
    }
   ],
   "source": [
    "pressure = Quantity(1.0, \"Pa\")\n",
    "print(pressure.to_base_units())\n",
    "\n",
    "resistance = Quantity(1.0, \"Ohm\")\n",
    "print(resistance.to_base_units())\n",
    "\n",
    "volume = Quantity(2.0, \"L\")\n",
    "print(volume.to_base_units())"
   ]
  },
  {
   "cell_type": "markdown",
   "id": "526c2792",
   "metadata": {},
   "source": [
    "## Arithmetic & Commensurability\n",
    "\n",
    "Quantaties can be added, subtracted, multiplied, divided and raised by an exponent."
   ]
  },
  {
   "cell_type": "code",
   "execution_count": 9,
   "id": "aad1740b",
   "metadata": {},
   "outputs": [
    {
     "name": "stdout",
     "output_type": "stream",
     "text": [
      "2.05 kg^1\n",
      "1.95 kg^1\n",
      "0.1 kg^2\n",
      "40.0 \n",
      "4.0 kg^2\n",
      "2.0 kg^1.0\n"
     ]
    }
   ],
   "source": [
    "mass = Quantity(2.0, \"kg\") + Quantity(50.0, \"g\")\n",
    "print(mass)\n",
    "\n",
    "mass = Quantity(2.0, \"kg\") - Quantity(50.0, \"g\")\n",
    "print(mass)\n",
    "\n",
    "mass_sq = Quantity(2.0, \"kg\") * Quantity(50.0, \"g\")\n",
    "print(mass_sq)\n",
    "\n",
    "mass_ratio = Quantity(2.0, \"kg\") / Quantity(50.0, \"g\")\n",
    "print(mass_ratio)\n",
    "\n",
    "mass_sq = Quantity(2.0, \"kg\")**2\n",
    "print(mass_sq)\n",
    "\n",
    "mass = Quantity(4.0, (\"kg\", 2))**0.5\n",
    "print(mass)"
   ]
  },
  {
   "cell_type": "markdown",
   "id": "a4be51be",
   "metadata": {},
   "source": [
    "Two quantities can also be tested for commensurability (i.e. do they have the same dimension?) with the equality operator."
   ]
  },
  {
   "cell_type": "code",
   "execution_count": 10,
   "id": "99da6d81",
   "metadata": {},
   "outputs": [
    {
     "name": "stdout",
     "output_type": "stream",
     "text": [
      "True\n",
      "True\n",
      "False\n"
     ]
    }
   ],
   "source": [
    "print(Quantity(3.5, (\"m\", \"L\")) == Quantity(2.1, (\"m\", 3)))\n",
    "\n",
    "print(Quantity(5.6, (-7, \"N\")) == Quantity(2.1, \"kg\", \"m\", (\"s\", -2)))\n",
    "\n",
    "print(Quantity(3.5, (\"m\", \"L\")) == Quantity(5.6, (-7, \"N\")))"
   ]
  },
  {
   "cell_type": "markdown",
   "id": "59820f58",
   "metadata": {},
   "source": [
    "If you try to add or subtract incommensurable quantaties, an error is thrown."
   ]
  },
  {
   "cell_type": "code",
   "execution_count": 11,
   "id": "ff0700a7",
   "metadata": {},
   "outputs": [
    {
     "ename": "TypeError",
     "evalue": "Cannot add 3.5 mL^1 and 5.6 (10^-7.N)^1.",
     "output_type": "error",
     "traceback": [
      "\u001b[0;31m---------------------------------------------------------------------------\u001b[0m",
      "\u001b[0;31mTypeError\u001b[0m                                 Traceback (most recent call last)",
      "\u001b[0;32m/var/folders/bl/qlsqj1vs2x37_vwrrsy9hb3c0000gn/T/ipykernel_6818/1720091178.py\u001b[0m in \u001b[0;36m<module>\u001b[0;34m\u001b[0m\n\u001b[0;32m----> 1\u001b[0;31m \u001b[0mQuantity\u001b[0m\u001b[0;34m(\u001b[0m\u001b[0;36m3.5\u001b[0m\u001b[0;34m,\u001b[0m \u001b[0;34m(\u001b[0m\u001b[0;34m\"m\"\u001b[0m\u001b[0;34m,\u001b[0m \u001b[0;34m\"L\"\u001b[0m\u001b[0;34m)\u001b[0m\u001b[0;34m)\u001b[0m \u001b[0;34m+\u001b[0m \u001b[0mQuantity\u001b[0m\u001b[0;34m(\u001b[0m\u001b[0;36m5.6\u001b[0m\u001b[0;34m,\u001b[0m \u001b[0;34m(\u001b[0m\u001b[0;34m-\u001b[0m\u001b[0;36m7\u001b[0m\u001b[0;34m,\u001b[0m \u001b[0;34m\"N\"\u001b[0m\u001b[0;34m)\u001b[0m\u001b[0;34m)\u001b[0m\u001b[0;34m\u001b[0m\u001b[0;34m\u001b[0m\u001b[0m\n\u001b[0m",
      "\u001b[0;32m~/PycharmProjects/python-resume/quantity/quantity.py\u001b[0m in \u001b[0;36m__add__\u001b[0;34m(self, other)\u001b[0m\n\u001b[1;32m    325\u001b[0m         \u001b[0;34m\"\"\" Add a quantity. \"\"\"\u001b[0m\u001b[0;34m\u001b[0m\u001b[0;34m\u001b[0m\u001b[0m\n\u001b[1;32m    326\u001b[0m         \u001b[0;32mif\u001b[0m \u001b[0;32mnot\u001b[0m \u001b[0mself\u001b[0m\u001b[0;34m.\u001b[0m\u001b[0mcommensurable\u001b[0m\u001b[0;34m(\u001b[0m\u001b[0mother\u001b[0m\u001b[0;34m)\u001b[0m\u001b[0;34m:\u001b[0m\u001b[0;34m\u001b[0m\u001b[0;34m\u001b[0m\u001b[0m\n\u001b[0;32m--> 327\u001b[0;31m             \u001b[0;32mraise\u001b[0m \u001b[0mTypeError\u001b[0m\u001b[0;34m(\u001b[0m\u001b[0;34mf\"Cannot add {self} and {other}.\"\u001b[0m\u001b[0;34m)\u001b[0m\u001b[0;34m\u001b[0m\u001b[0;34m\u001b[0m\u001b[0m\n\u001b[0m\u001b[1;32m    328\u001b[0m \u001b[0;34m\u001b[0m\u001b[0m\n\u001b[1;32m    329\u001b[0m         \u001b[0mvalue\u001b[0m \u001b[0;34m=\u001b[0m \u001b[0mself\u001b[0m\u001b[0;34m.\u001b[0m\u001b[0mbase_value\u001b[0m \u001b[0;34m+\u001b[0m \u001b[0mother\u001b[0m\u001b[0;34m.\u001b[0m\u001b[0mbase_value\u001b[0m\u001b[0;34m\u001b[0m\u001b[0;34m\u001b[0m\u001b[0m\n",
      "\u001b[0;31mTypeError\u001b[0m: Cannot add 3.5 mL^1 and 5.6 (10^-7.N)^1."
     ]
    }
   ],
   "source": [
    "Quantity(3.5, (\"m\", \"L\")) + Quantity(5.6, (-7, \"N\"))"
   ]
  },
  {
   "cell_type": "code",
   "execution_count": 12,
   "id": "88ef24c4",
   "metadata": {},
   "outputs": [
    {
     "data": {
      "text/plain": [
       "0.3979400086720376 kg^1"
      ]
     },
     "execution_count": 12,
     "metadata": {},
     "output_type": "execute_result"
    }
   ],
   "source": [
    "Quantity(2.5, \"kg\").log10()"
   ]
  },
  {
   "cell_type": "code",
   "execution_count": null,
   "id": "b8d32123",
   "metadata": {},
   "outputs": [],
   "source": []
  },
  {
   "cell_type": "markdown",
   "id": "a2f7644d",
   "metadata": {},
   "source": [
    "## Some more examples"
   ]
  },
  {
   "cell_type": "markdown",
   "id": "a9340d40",
   "metadata": {},
   "source": [
    "A mechanical damped spring."
   ]
  },
  {
   "cell_type": "code",
   "execution_count": 12,
   "id": "30eb0f67",
   "metadata": {},
   "outputs": [
    {
     "name": "stdout",
     "output_type": "stream",
     "text": [
      "8.660254037844387 s^-1.0\n",
      "0.6466323014923809 \n"
     ]
    }
   ],
   "source": [
    "mass = Quantity(0.1, \"kg\")\n",
    "spring_constant = Quantity(7.5, \"kg\", (\"s\", -2))\n",
    "damping = Quantity(1.12, \"kg\", (\"s\", -1))\n",
    "\n",
    "angular_frequency = (spring_constant / mass)**0.5\n",
    "print(angular_frequency)\n",
    "\n",
    "damping_coefficient = Quantity(0.5) * damping / (mass * spring_constant)**0.5\n",
    "print(damping_coefficient)"
   ]
  },
  {
   "cell_type": "markdown",
   "id": "6195af12",
   "metadata": {},
   "source": [
    "And its electrical (RLC circuit) analog."
   ]
  },
  {
   "cell_type": "code",
   "execution_count": 13,
   "id": "4471f33e",
   "metadata": {},
   "outputs": [
    {
     "name": "stdout",
     "output_type": "stream",
     "text": [
      "8.660254037844386 s^-1.0\n",
      "0.6466323014923809 \n"
     ]
    }
   ],
   "source": [
    "inductance = Quantity(0.1, \"kg\", (\"m\", 2), (\"s\", -2), (\"A\", -2))\n",
    "capacitance = Quantity(1/7.5, \"F\")\n",
    "resistance = Quantity(1.12, \"Ohm\")\n",
    "\n",
    "angular_frequency = (capacitance * inductance)**-0.5\n",
    "print(angular_frequency)\n",
    "\n",
    "damping_coefficient = Quantity(0.5) * resistance / (inductance / capacitance)**0.5\n",
    "print(damping_coefficient)"
   ]
  },
  {
   "cell_type": "markdown",
   "id": "9af5b601",
   "metadata": {},
   "source": [
    "Energy of a green photon."
   ]
  },
  {
   "cell_type": "code",
   "execution_count": 14,
   "id": "b2ce481b",
   "metadata": {},
   "outputs": [
    {
     "name": "stdout",
     "output_type": "stream",
     "text": [
      "3.611719740270779e-19 J^1\n"
     ]
    }
   ],
   "source": [
    "wavelength = Quantity(550, (\"n\", \"m\"))\n",
    "speed_of_light = Quantity(299792458, \"m\", (\"s\", -1))\n",
    "plancks_constant = Quantity(6.62607015e-34, \"J\", (\"Hz\", -1))\n",
    "\n",
    "energy = plancks_constant * speed_of_light / wavelength\n",
    "print(energy.convert_units(\"J\"))"
   ]
  },
  {
   "cell_type": "code",
   "execution_count": null,
   "id": "cba0d84b",
   "metadata": {},
   "outputs": [],
   "source": []
  },
  {
   "cell_type": "code",
   "execution_count": null,
   "id": "52ea287d",
   "metadata": {},
   "outputs": [],
   "source": []
  },
  {
   "cell_type": "code",
   "execution_count": null,
   "id": "430b475d",
   "metadata": {},
   "outputs": [],
   "source": []
  }
 ],
 "metadata": {
  "kernelspec": {
   "display_name": "Python 3 (ipykernel)",
   "language": "python",
   "name": "python3"
  },
  "language_info": {
   "codemirror_mode": {
    "name": "ipython",
    "version": 3
   },
   "file_extension": ".py",
   "mimetype": "text/x-python",
   "name": "python",
   "nbconvert_exporter": "python",
   "pygments_lexer": "ipython3",
   "version": "3.7.1"
  }
 },
 "nbformat": 4,
 "nbformat_minor": 5
}
