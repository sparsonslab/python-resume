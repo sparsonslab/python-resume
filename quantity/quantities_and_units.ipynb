{
 "cells": [
  {
   "cell_type": "markdown",
   "id": "fc053e96",
   "metadata": {},
   "source": [
    "# Dimensional Analysis - The Quantity Class\n",
    "\n",
    "Physical equations usually involve variables with both a value and units - aka their \"concrete value\" and \"dimension\". Dimensional analysis involves making sure that the units/dimensions of the variables are commensurate when combined. That is when two varibles are added, subtracted or equated they have the same dimension in terms of their base SI units.\n",
    "\n",
    "Dimensional analysis by-hand is often a pain, especially when variables are raised by exponents and expressed in different, often non-base, units. To prevent headaches I wrote the `Quantity` class to represent a concrete value and its units.\n",
    "\n",
    "\n",
    "#### References\n",
    "\n",
    "https://en.wikipedia.org/wiki/Dimensional_analysis\n",
    "\n",
    "https://en.wikipedia.org/wiki/SI_derived_unit\n",
    "\n",
    "\n",
    "#### Similar packages\n",
    "\n",
    "SymPy https://docs.sympy.org/latest/modules/physics/units/index.html\n",
    "\n",
    "SymDim\n",
    "\n",
    "Pint"
   ]
  },
  {
   "cell_type": "code",
   "execution_count": 6,
   "id": "e3bc83fe",
   "metadata": {},
   "outputs": [],
   "source": [
    "from quantity import Quantity\n",
    "\n",
    "import numpy as np"
   ]
  },
  {
   "cell_type": "markdown",
   "id": "464b78ae",
   "metadata": {},
   "source": [
    "## Specifying a quantity\n",
    "\n",
    "A `Quantity` is defined in terms of a concrete value and a variable number of unit arguments. Each unit argument consists of up to three parts:\n",
    "\n",
    "$$ value \\ (unit \\times  10^n)^{p} $$ \n",
    "<center> Quantity(value, (n, unit, p)) </center>\n",
    "\n",
    "i) An base-10 multiplier (n). This can be given as an integer (-6 for micro, -2 for centi, etc.) or short string ('mu' for micro-, 'c' for centi-, etc.). Allowable values are given n the table below.\n",
    "\n",
    "ii) The unit name ('g' for gram, 'm' for metre, etc.). Any value is allowable.\n",
    "\n",
    "iii) An exponent (p) - the dimension of the unit.\n",
    "\n",
    "| prefix | base-10 multipler | string arg |\n",
    "|---|---|---|\n",
    "|atto|-18|a|\n",
    "|femto|-15|f|\n",
    "|pico|-12|p|\n",
    "|nano|-9|n|\n",
    "|micro|-6|mu|\n",
    "|milli|-3|m|\n",
    "|centi|-2|c|\n",
    "|deci|-1|d|\n",
    "|deca|1|da|\n",
    "|hecto|2|2|\n",
    "|kilo|3|k|\n",
    "|mega|6|M|\n",
    "|giga|9|G|\n",
    "|tera|12|T|\n",
    "|peta|15|15|\n"
   ]
  },
  {
   "cell_type": "markdown",
   "id": "6654d543",
   "metadata": {},
   "source": [
    "The argument for the unit can exclude the base-10 multiplier and exponent if these are superfluous. For instance, the following declarations are equivalent for 3.5 grams."
   ]
  },
  {
   "cell_type": "code",
   "execution_count": 2,
   "id": "0058167e",
   "metadata": {},
   "outputs": [
    {
     "name": "stdout",
     "output_type": "stream",
     "text": [
      "3.5 g^1\n",
      "3.5 g^1\n",
      "3.5 g^1\n",
      "3.5 g^1\n"
     ]
    }
   ],
   "source": [
    "mass = Quantity(3.5, (0, \"g\", 1))\n",
    "print(mass)\n",
    "\n",
    "mass = Quantity(3.5, (0, \"g\"))\n",
    "print(mass)\n",
    "\n",
    "mass = Quantity(3.5, (\"g\", 1))\n",
    "print(mass)\n",
    "\n",
    "mass = Quantity(3.5, \"g\")\n",
    "print(mass)"
   ]
  },
  {
   "cell_type": "markdown",
   "id": "55285936",
   "metadata": {},
   "source": [
    "Quantities with compound units are declared with multiple unit arguments."
   ]
  },
  {
   "cell_type": "code",
   "execution_count": 3,
   "id": "5eda0c2f",
   "metadata": {},
   "outputs": [
    {
     "name": "stdout",
     "output_type": "stream",
     "text": [
      "9.8 m^1.s^2\n",
      "2.1 kg^1.m^2.s^-3.A^2\n"
     ]
    }
   ],
   "source": [
    "acceleration_of_freefall = Quantity(9.8, \"m\", (\"s\", 2))\n",
    "print(acceleration_of_freefall)\n",
    "\n",
    "resistance = Quantity(2.1, (\"k\" \"g\"), (\"m\", 2), (\"s\", -3), (\"A\", 2))\n",
    "print(resistance)"
   ]
  },
  {
   "cell_type": "markdown",
   "id": "772d2d74",
   "metadata": {},
   "source": [
    "The concrete value can be a numpy array."
   ]
  },
  {
   "cell_type": "code",
   "execution_count": 7,
   "id": "696cd5f6",
   "metadata": {},
   "outputs": [
    {
     "name": "stdout",
     "output_type": "stream",
     "text": [
      "[0.  0.5 1.5 5.6] m^1.s^-1\n"
     ]
    }
   ],
   "source": [
    "speeds = Quantity(np.array([0.0, 0.5, 1.5, 5.6]), \"m\", (\"s\", -1))\n",
    "print(speeds)"
   ]
  },
  {
   "cell_type": "markdown",
   "id": "ab5e0633",
   "metadata": {},
   "source": [
    "Base SI units are specified by the following strings.\n",
    "\n",
    "|SI unit|unit string|\n",
    "|--|--|\n",
    "|kilogram|kg|\n",
    "|meter|m|\n",
    "|second|s|\n",
    "|Ampere|A|\n",
    "|Kelvin|K|\n",
    "\n",
    "A number of derived (non-SI) units are also recognised.\n",
    "\n",
    "|Category|derived unit|unit string|\n",
    "|--|--|--|\n",
    "|**Mechanical**|Joule|J|\n",
    "||Newton|N|\n",
    "||Watt|W|\n",
    "||Pascal|Pa|\n",
    "|**Electrical**|Ohm|Ohm|\n",
    "||Siemen|S|\n",
    "||Volt|V|\n",
    "||Farad|F|\n",
    "||Coulomb|C|\n",
    "|**Non-compound**|Litre|L|\n",
    "||Hertz|Hz|\n",
    "||gram|g|\n",
    "\n",
    "\n",
    "They can be converted in SI units by calling `to_base_units()`."
   ]
  },
  {
   "cell_type": "code",
   "execution_count": 4,
   "id": "833a4c7d",
   "metadata": {},
   "outputs": [
    {
     "name": "stdout",
     "output_type": "stream",
     "text": [
      "1.0 kg^1.m^-1.s^-2\n",
      "1.0 kg^1.m^2.s^-3.A^-2\n",
      "0.002 m^3\n"
     ]
    }
   ],
   "source": [
    "pressure = Quantity(1.0, \"Pa\")\n",
    "print(pressure.to_base_units())\n",
    "\n",
    "resistance = Quantity(1.0, \"Ohm\")\n",
    "print(resistance.to_base_units())\n",
    "\n",
    "volume = Quantity(2.0, \"L\")\n",
    "print(volume.to_base_units())"
   ]
  },
  {
   "cell_type": "markdown",
   "id": "526c2792",
   "metadata": {},
   "source": [
    "## Arithmetic"
   ]
  },
  {
   "cell_type": "code",
   "execution_count": 6,
   "id": "aad1740b",
   "metadata": {},
   "outputs": [
    {
     "name": "stdout",
     "output_type": "stream",
     "text": [
      "0.005 kg^1\n",
      "-0.001 kg^1\n",
      "6e-06 kg^2\n",
      "0.6666666666666666 \n"
     ]
    }
   ],
   "source": [
    "mass = Quantity(2.0, (-3, \"kg\")) + Quantity(3.0, \"g\")\n",
    "print(mass)\n",
    "\n",
    "mass = Quantity(2.0, (-3, \"kg\")) - Quantity(3.0, \"g\")\n",
    "print(mass)\n",
    "\n",
    "mass = Quantity(2.0, (-3, \"kg\")) * Quantity(3.0, \"g\")\n",
    "print(mass)\n",
    "\n",
    "mass = Quantity(2.0, (-3, \"kg\")) / Quantity(3.0, \"g\")\n",
    "print(mass)"
   ]
  },
  {
   "cell_type": "markdown",
   "id": "a2f7644d",
   "metadata": {},
   "source": [
    "## Commensurability"
   ]
  },
  {
   "cell_type": "code",
   "execution_count": null,
   "id": "30eb0f67",
   "metadata": {},
   "outputs": [],
   "source": []
  },
  {
   "cell_type": "code",
   "execution_count": null,
   "id": "4471f33e",
   "metadata": {},
   "outputs": [],
   "source": []
  },
  {
   "cell_type": "code",
   "execution_count": null,
   "id": "f3504302",
   "metadata": {},
   "outputs": [],
   "source": []
  }
 ],
 "metadata": {
  "kernelspec": {
   "display_name": "Python 3 (ipykernel)",
   "language": "python",
   "name": "python3"
  },
  "language_info": {
   "codemirror_mode": {
    "name": "ipython",
    "version": 3
   },
   "file_extension": ".py",
   "mimetype": "text/x-python",
   "name": "python",
   "nbconvert_exporter": "python",
   "pygments_lexer": "ipython3",
   "version": "3.7.1"
  }
 },
 "nbformat": 4,
 "nbformat_minor": 5
}
