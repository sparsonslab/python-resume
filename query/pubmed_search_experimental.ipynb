{
 "cells": [
  {
   "cell_type": "code",
   "execution_count": 3,
   "id": "bf0ed4e7",
   "metadata": {},
   "outputs": [],
   "source": [
    "\n",
    "import datetime\n",
    "\n",
    "from dictionarydatabase import DictionaryDataBase"
   ]
  },
  {
   "cell_type": "code",
   "execution_count": 4,
   "id": "1efc5220",
   "metadata": {},
   "outputs": [
    {
     "data": {
      "text/plain": [
       "[{'name': 'duck',\n",
       "  'caught': datetime.datetime(1987, 11, 3, 0, 0),\n",
       "  'dimensions': {'height': 0.15, 'length': 0.24},\n",
       "  'appendages': {'legs': 2, 'wings': 2},\n",
       "  'abilities': {'flys': True}},\n",
       " {'name': 'zebra',\n",
       "  'caught': datetime.datetime(2010, 3, 15, 0, 0),\n",
       "  'dimensions': {'height': 1.4, 'length': 1.8},\n",
       "  'appendages': {'legs': 4}},\n",
       " {'name': 'monkey',\n",
       "  'caught': datetime.datetime(2002, 4, 11, 0, 0),\n",
       "  'dimensions': {'height': 1.2},\n",
       "  'appendages': {'legs': 2, 'arms': 2}}]"
      ]
     },
     "execution_count": 4,
     "metadata": {},
     "output_type": "execute_result"
    }
   ],
   "source": [
    "db = DictionaryDataBase(fields={\n",
    "    (\"name\", \"nm\", str): (lambda x: x[\"name\"]),\n",
    "    (\"caught\", \"cg\", datetime.datetime): (lambda x: x[\"caught\"]),\n",
    "    (\"height\", \"hg\", float): (lambda x: x[\"dimensions\"][\"height\"]),\n",
    "    (\"legs\", \"lg\", int): (lambda x: x[\"appendages\"][\"legs\"]),\n",
    "    (\"arms\", \"ar\", int): (lambda x: x[\"appendages\"][\"arms\"]),\n",
    "    (\"flys\", \"fy\", bool): (lambda x: x[\"abilities\"][\"flys\"]),\n",
    "}) \n",
    "\n",
    "data = [\n",
    "    {\n",
    "        \"name\": \"zebra\", \"caught\": datetime.datetime(2010, 3, 15),\n",
    "        \"dimensions\": {\"height\": 1.4, \"length\": 1.8}, \n",
    "        \"appendages\": {\"legs\": 4}\n",
    "    },\n",
    "    {\n",
    "        \"name\": \"monkey\", \"caught\": datetime.datetime(2002, 4, 11),\n",
    "        \"dimensions\": {\"height\": 1.2}, \n",
    "        \"appendages\": {\"legs\": 2, \"arms\": 2}\n",
    "    },\n",
    "    {\n",
    "        \"name\": \"duck\", \"caught\": datetime.datetime(1987, 11, 3),\n",
    "        \"dimensions\": {\"height\": 0.15, \"length\": 0.24}, \n",
    "        \"appendages\": {\"legs\": 2, \"wings\": 2}, \n",
    "        \"abilities\": {\"flys\": True}\n",
    "    },\n",
    "    {\n",
    "        \"name\": \"whale\", \"caught\": datetime.datetime(1910, 1, 15),\n",
    "        \"dimensions\": {\"height\": 2.1, \"length\": 5.6}, \n",
    "        \"appendages\": {\"legs\": 2}\n",
    "    },\n",
    "]\n",
    "\n",
    "db.set_data(data)\n",
    "\n",
    "db.query(\">2000-01-01[caught] or t[flys]\")"
   ]
  },
  {
   "cell_type": "code",
   "execution_count": 6,
   "id": "ff5c903a",
   "metadata": {},
   "outputs": [
    {
     "data": {
      "text/plain": [
       "'(\"bucket\" LIKE \\'empty\\' AND (\"anchor\" > 6 OR \"anchor\" LIKE \\'light\\'))'"
      ]
     },
     "execution_count": 6,
     "metadata": {},
     "output_type": "execute_result"
    }
   ],
   "source": [
    "class SQLDataBase(DataBase):\n",
    "    \n",
    "    def __init__(self, field_names):\n",
    "        super().__init__()\n",
    "        self.field_names = {k.lower(): v.lower() for k, v in field_names.items()}\n",
    "        \n",
    "    def _get_field_full_name(self, field_name):\n",
    "        m = field_name.lower()\n",
    "        for abbr, full in self.field_names.items():\n",
    "            if m == abbr or m == full:\n",
    "                return full\n",
    "        return m\n",
    "    \n",
    "    # -------------------------------------------------------------------------\n",
    "    # Database specific search actions.\n",
    "    # -------------------------------------------------------------------------\n",
    "    \n",
    "    def search_not(self, operands):\n",
    "        return 'NOT ' + operands.evaluate()\n",
    "\n",
    "    def search_and(self, operands):\n",
    "        return \"(\" + \" AND \".join([oper.evaluate() for oper in operands]) + \")\"\n",
    "    \n",
    "    def search_or(self, operands):\n",
    "        return \"(\" + \" OR \".join([oper.evaluate() for oper in operands]) + \")\"\n",
    "    \n",
    "    def search_string(self, term, field):\n",
    "        nom = self._get_field_full_name(field)\n",
    "        x = term.replace(\"*\", \"%\")\n",
    "        return f\"\\\"{nom}\\\" LIKE '{x}'\"\n",
    "        \n",
    "    def search_number(self, comp, term, field):\n",
    "        nom = self._get_field_full_name(field)\n",
    "        return f\"\\\"{nom}\\\" {comp} {term}\"\n",
    "\n",
    "    def search_list(self, comp, term, field):\n",
    "        return \"\"\n",
    "    \n",
    "\n",
    "db = SQLDataBase(field_names={\"bk\": \"bucket\", \"an\": \"anchor\"})\n",
    "\n",
    "db.query(\"empty[bk] and (>6[an] or light[an])\")"
   ]
  },
  {
   "cell_type": "code",
   "execution_count": null,
   "id": "0d01fc14",
   "metadata": {},
   "outputs": [],
   "source": []
  },
  {
   "cell_type": "code",
   "execution_count": null,
   "id": "797d8e7e",
   "metadata": {},
   "outputs": [],
   "source": []
  },
  {
   "cell_type": "code",
   "execution_count": null,
   "id": "365b7f00",
   "metadata": {},
   "outputs": [],
   "source": []
  },
  {
   "cell_type": "code",
   "execution_count": null,
   "id": "0f83e54a",
   "metadata": {},
   "outputs": [],
   "source": []
  },
  {
   "cell_type": "code",
   "execution_count": null,
   "id": "121407fa",
   "metadata": {},
   "outputs": [],
   "source": []
  }
 ],
 "metadata": {
  "kernelspec": {
   "display_name": "Python 3 (ipykernel)",
   "language": "python",
   "name": "python3"
  },
  "language_info": {
   "codemirror_mode": {
    "name": "ipython",
    "version": 3
   },
   "file_extension": ".py",
   "mimetype": "text/x-python",
   "name": "python",
   "nbconvert_exporter": "python",
   "pygments_lexer": "ipython3",
   "version": "3.7.1"
  }
 },
 "nbformat": 4,
 "nbformat_minor": 5
}
