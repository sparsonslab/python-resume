{
 "cells": [
  {
   "cell_type": "markdown",
   "id": "92ba4817",
   "metadata": {},
   "source": [
    "# PubMed Parser - Examples"
   ]
  },
  {
   "cell_type": "code",
   "execution_count": 1,
   "id": "021fadc1",
   "metadata": {},
   "outputs": [],
   "source": [
    "import os\n",
    "import sys\n",
    "import uuid"
   ]
  },
  {
   "cell_type": "code",
   "execution_count": 2,
   "id": "79fe9cba",
   "metadata": {},
   "outputs": [],
   "source": [
    "sys.path.insert(0, os.path.dirname(os.getcwd()))"
   ]
  },
  {
   "cell_type": "code",
   "execution_count": 3,
   "id": "dae7a985",
   "metadata": {},
   "outputs": [],
   "source": [
    "from pubmed_querier.pubmed_parser import PubMedParser\n",
    "from pubmed_querier.field import StringField, NumericField, ListField"
   ]
  },
  {
   "cell_type": "markdown",
   "id": "1257cb8e",
   "metadata": {},
   "source": [
    "## A collection of dictionaries\n",
    "\n",
    "A collection of dictionaries describing some animals."
   ]
  },
  {
   "cell_type": "code",
   "execution_count": 18,
   "id": "322c90a6",
   "metadata": {},
   "outputs": [],
   "source": [
    "animals = [\n",
    "    {\"name\": \"zebra\", \"color\": [\"black\", \"white\"], \"appendages\": {\"leg\": 4, \"arm\": 0, \"tail\": 1}},\n",
    "    {\"name\": \"octopus\", \"color\": [\"orange\", \"red\"], \"appendages\": {\"leg\": 0, \"arm\": 8, \"tail\": 0}},\n",
    "    {\"name\": \"chimp\", \"color\": [\"brown\", \"white\"], \"appendages\": {\"leg\": 2, \"arm\": 2, \"tail\": 0}},\n",
    "    {\"name\": \"gibbon\", \"color\": [\"black\"], \"appendages\": {\"leg\": 2, \"arm\": 2, \"tail\": 1}},\n",
    "    {\"name\": \"frog\", \"color\": [\"green\"], \"appendages\": {\"leg\": 4, \"arm\": 0, \"tail\": 0}},\n",
    "    {\"name\": \"caterpillar\", \"color\": [\"green\", \"yellow\"], \"appendages\": {\"leg\": 10, \"arm\": 0, \"tail\": 1}},\n",
    "]"
   ]
  },
  {
   "cell_type": "markdown",
   "id": "ad328b7a",
   "metadata": {},
   "source": [
    "Create a database of these animals - a map of unique identifiers to the animal properties."
   ]
  },
  {
   "cell_type": "code",
   "execution_count": 19,
   "id": "6fcfacb1",
   "metadata": {},
   "outputs": [],
   "source": [
    "database = {uuid.uuid4(): animal for animal in animals}"
   ]
  },
  {
   "cell_type": "markdown",
   "id": "06bd5f40",
   "metadata": {},
   "source": [
    "Create field instances for the things you want to query."
   ]
  },
  {
   "cell_type": "code",
   "execution_count": 24,
   "id": "d902ad32",
   "metadata": {},
   "outputs": [],
   "source": [
    "fields = [\n",
    "    StringField(full_name=\"name\", abbr_name=\"NM\", entry_mapping=(lambda x: x[\"name\"])),\n",
    "    ListField(full_name=\"color\", abbr_name=\"CL\", entry_mapping=(lambda x: x[\"color\"])),\n",
    "    NumericField(full_name=\"arms\", abbr_name=\"AM\", entry_mapping=(lambda x: x[\"appendages\"][\"arm\"])),\n",
    "    NumericField(full_name=\"tails\", abbr_name=\"TL\", entry_mapping=(lambda x: x[\"appendages\"][\"tail\"]))\n",
    "]"
   ]
  },
  {
   "cell_type": "markdown",
   "id": "d2a49788",
   "metadata": {},
   "source": [
    "Link database entries to the fields."
   ]
  },
  {
   "cell_type": "code",
   "execution_count": 25,
   "id": "c919270a",
   "metadata": {},
   "outputs": [],
   "source": [
    "for field in fields:\n",
    "    field.reset_entries(database)"
   ]
  },
  {
   "cell_type": "markdown",
   "id": "2010044d",
   "metadata": {},
   "source": [
    "Initiate a parser with these fields."
   ]
  },
  {
   "cell_type": "code",
   "execution_count": 26,
   "id": "8c644a5d",
   "metadata": {},
   "outputs": [],
   "source": [
    "parser = PubMedParser(fields)"
   ]
  },
  {
   "cell_type": "markdown",
   "id": "79244999",
   "metadata": {},
   "source": [
    "Make some queries."
   ]
  },
  {
   "cell_type": "code",
   "execution_count": 27,
   "id": "a16f45ac",
   "metadata": {},
   "outputs": [
    {
     "name": "stdout",
     "output_type": "stream",
     "text": [
      "{'name': 'caterpillar', 'color': ['green', 'yellow'], 'appendages': {'leg': 10, 'arm': 0, 'tail': 1}}\n",
      "{'name': 'zebra', 'color': ['black', 'white'], 'appendages': {'leg': 4, 'arm': 0, 'tail': 1}}\n",
      "{'name': 'frog', 'color': ['green'], 'appendages': {'leg': 4, 'arm': 0, 'tail': 0}}\n"
     ]
    }
   ],
   "source": [
    "query = \"z*[name] or ?green[CL]\"\n",
    "for entry in parser.get_object_set(query):\n",
    "    print(database[entry])"
   ]
  },
  {
   "cell_type": "code",
   "execution_count": 32,
   "id": "180fd53f",
   "metadata": {},
   "outputs": [
    {
     "name": "stdout",
     "output_type": "stream",
     "text": [
      "{'name': 'gibbon', 'color': ['black'], 'appendages': {'leg': 2, 'arm': 2, 'tail': 1}}\n",
      "{'name': 'caterpillar', 'color': ['green', 'yellow'], 'appendages': {'leg': 10, 'arm': 0, 'tail': 1}}\n",
      "{'name': 'octopus', 'color': ['orange', 'red'], 'appendages': {'leg': 0, 'arm': 8, 'tail': 0}}\n",
      "{'name': 'zebra', 'color': ['black', 'white'], 'appendages': {'leg': 4, 'arm': 0, 'tail': 1}}\n"
     ]
    }
   ],
   "source": [
    "query = \">4[AM] or =1[tails]\"\n",
    "for entry in parser.get_object_set(query):\n",
    "    print(database[entry])"
   ]
  },
  {
   "cell_type": "markdown",
   "id": "17b75815",
   "metadata": {},
   "source": [
    "## SQL queries\n",
    "\n",
    "Say the fields defined above were columns in a SQL table, rather than dictionary entries. In this case we can translate the PubMed-like query into a SQL query."
   ]
  },
  {
   "cell_type": "code",
   "execution_count": 35,
   "id": "f9e3eec7",
   "metadata": {},
   "outputs": [
    {
     "name": "stdout",
     "output_type": "stream",
     "text": [
      "SELECT * FROM animal.db WHERE (\"arms\" > 4 OR \"tails\" = 1)\n"
     ]
    }
   ],
   "source": [
    "field_names, sql = parser.get_sql_query(query=\">4[AM] or =1[tails]\", table_name=\"animal.db\")\n",
    "print(sql)"
   ]
  },
  {
   "cell_type": "code",
   "execution_count": 37,
   "id": "9962f3e9",
   "metadata": {},
   "outputs": [
    {
     "name": "stdout",
     "output_type": "stream",
     "text": [
      "SELECT * FROM animal.db WHERE (\"name\" LIKE 'z%' OR )\n"
     ]
    }
   ],
   "source": [
    "field_names, sql = parser.get_sql_query(query=\"z*[name] or ?green[CL]\", table_name=\"animal.db\")\n",
    "print(sql)"
   ]
  },
  {
   "cell_type": "code",
   "execution_count": null,
   "id": "cb8095aa",
   "metadata": {},
   "outputs": [],
   "source": []
  },
  {
   "cell_type": "code",
   "execution_count": null,
   "id": "8b48efd3",
   "metadata": {},
   "outputs": [],
   "source": []
  }
 ],
 "metadata": {
  "kernelspec": {
   "display_name": "Python 3",
   "language": "python",
   "name": "python3"
  },
  "language_info": {
   "codemirror_mode": {
    "name": "ipython",
    "version": 3
   },
   "file_extension": ".py",
   "mimetype": "text/x-python",
   "name": "python",
   "nbconvert_exporter": "python",
   "pygments_lexer": "ipython3",
   "version": "3.6.13"
  }
 },
 "nbformat": 4,
 "nbformat_minor": 5
}
