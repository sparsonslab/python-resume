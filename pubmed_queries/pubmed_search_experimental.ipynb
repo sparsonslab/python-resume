{
 "cells": [
  {
   "cell_type": "code",
   "execution_count": 1,
   "id": "bf0ed4e7",
   "metadata": {},
   "outputs": [],
   "source": [
    "from database import DataBase"
   ]
  },
  {
   "cell_type": "code",
   "execution_count": 2,
   "id": "ff5c903a",
   "metadata": {},
   "outputs": [
    {
     "data": {
      "text/plain": [
       "'(\"bucket\" LIKE \\'empty\\' AND (\"anchor\" > 6 OR \"anchor\" LIKE \\'light\\'))'"
      ]
     },
     "execution_count": 2,
     "metadata": {},
     "output_type": "execute_result"
    }
   ],
   "source": [
    "class SQLDataBase(DataBase):\n",
    "    \n",
    "    def __init__(self, field_names):\n",
    "        super().__init__()\n",
    "        self.field_names = {k.lower(): v.lower() for k, v in field_names.items()}\n",
    "        \n",
    "    def _get_field_full_name(self, field_name):\n",
    "        m = field_name.lower()\n",
    "        for abbr, full in self.field_names.items():\n",
    "            if m == abbr or m == full:\n",
    "                return full\n",
    "        return m\n",
    "    \n",
    "    # -------------------------------------------------------------------------\n",
    "    # Database specific search actions.\n",
    "    # -------------------------------------------------------------------------\n",
    "    \n",
    "    def search_not(self, operands):\n",
    "        return 'NOT ' + operands.evaluate()\n",
    "\n",
    "    def search_and(self, operands):\n",
    "        return \"(\" + \" AND \".join([oper.evaluate() for oper in operands]) + \")\"\n",
    "    \n",
    "    def search_or(self, operands):\n",
    "        return \"(\" + \" OR \".join([oper.evaluate() for oper in operands]) + \")\"\n",
    "    \n",
    "    def search_string(self, term, field):\n",
    "        nom = self._get_field_full_name(field)\n",
    "        x = term.replace(\"*\", \"%\")\n",
    "        return f\"\\\"{nom}\\\" LIKE '{x}'\"\n",
    "        \n",
    "    def search_number(self, comp, term, field):\n",
    "        nom = self._get_field_full_name(field)\n",
    "        return f\"\\\"{nom}\\\" {comp} {term}\"\n",
    "\n",
    "    def search_list(self, comp, term, field):\n",
    "        return \"\"\n",
    "    \n",
    "\n",
    "db = SQLDataBase(field_names={\"bk\": \"bucket\", \"an\": \"anchor\"})\n",
    "\n",
    "db.query(\"empty[bk] and (>6[an] or light[an])\")"
   ]
  },
  {
   "cell_type": "code",
   "execution_count": null,
   "id": "1efc5220",
   "metadata": {},
   "outputs": [],
   "source": []
  },
  {
   "cell_type": "code",
   "execution_count": null,
   "id": "810856df",
   "metadata": {},
   "outputs": [],
   "source": []
  },
  {
   "cell_type": "code",
   "execution_count": null,
   "id": "0d01fc14",
   "metadata": {},
   "outputs": [],
   "source": []
  },
  {
   "cell_type": "code",
   "execution_count": null,
   "id": "797d8e7e",
   "metadata": {},
   "outputs": [],
   "source": []
  },
  {
   "cell_type": "code",
   "execution_count": null,
   "id": "365b7f00",
   "metadata": {},
   "outputs": [],
   "source": []
  },
  {
   "cell_type": "code",
   "execution_count": null,
   "id": "0f83e54a",
   "metadata": {},
   "outputs": [],
   "source": []
  },
  {
   "cell_type": "code",
   "execution_count": null,
   "id": "121407fa",
   "metadata": {},
   "outputs": [],
   "source": []
  }
 ],
 "metadata": {
  "kernelspec": {
   "display_name": "Python 3 (ipykernel)",
   "language": "python",
   "name": "python3"
  },
  "language_info": {
   "codemirror_mode": {
    "name": "ipython",
    "version": 3
   },
   "file_extension": ".py",
   "mimetype": "text/x-python",
   "name": "python",
   "nbconvert_exporter": "python",
   "pygments_lexer": "ipython3",
   "version": "3.7.1"
  }
 },
 "nbformat": 4,
 "nbformat_minor": 5
}
